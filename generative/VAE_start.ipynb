{
  "nbformat": 4,
  "nbformat_minor": 0,
  "metadata": {
    "colab": {
      "name": "TMLSS-VAE-external.ipynb",
      "version": "0.3.2",
      "provenance": [],
      "collapsed_sections": [
        "Acmy1z3P3V98",
        "9UiHw8Ie4sl0",
        "a7XoTvOhzFp9",
        "1YwZqHFXyie5",
        "UYeq8SF-4Lmp",
        "wCMHZKfkhyWN",
        "iePLy5C7z_5B",
        "-WyyBOYv0BXV",
        "FGKjcY8o0GeF",
        "njDk4CGSkalW",
        "3CthSKUMjJBP",
        "73AZS7Rfbxj1",
        "jrW5Nrh7b3w1",
        "WO8-O_MVp9h3",
        "0xHqdJ2Eb8UO",
        "K1SkUv8CbYCb",
        "01U3ppUSba9n",
        "NJluooqlbdYG",
        "FMwyujkrKaCp",
        "4-fiNrWg6qRL",
        "UyDb1c-_cDDN",
        "5OmDkc3Vyrd2",
        "aW36aYIO7IEz",
        "Cr1gCMEmVZIB",
        "7vCzjVdPjris",
        "E7KYRykh5oCY",
        "AikrCSKNkDkV",
        "cDV-VHNrk7gS"
      ],
      "toc_visible": true
    },
    "kernelspec": {
      "name": "python2",
      "display_name": "Python 2"
    },
    "accelerator": "GPU"
  },
  "cells": [
    {
      "metadata": {
        "id": "YpCl_L2mfS_x",
        "colab_type": "text"
      },
      "cell_type": "markdown",
      "source": [
        "# VAE training tutorial\n",
        "\n",
        "This is a tutorial training a [VAE](https://arxiv.org/abs/1312.6114) on MNIST and latent analysis\n",
        "\n",
        "Structure:\n",
        "\n",
        "  * create encoder and decoder, choose latent and model distributions.\n",
        "  * VAE training\n",
        "  * check likelihood for overfitting.\n",
        "  * latent analysis\n",
        "  \n",
        "  \n",
        "  Your tasks:\n",
        "  \n",
        "   * define the decoder distribution\n",
        "   * define the encoder distribution\n",
        "   * define the terms of the loss\n",
        "   * define the samples and reconstruction tensors\n",
        "   * run the KL analysis \n",
        "   * run the latent traversal task\n",
        "   * run the colab with a different number of latent dimensions (and see how that affects the kl analysis)\n",
        "   \n",
        " "
      ]
    },
    {
      "metadata": {
        "id": "f_lRdLwjSBZE",
        "colab_type": "code",
        "colab": {}
      },
      "cell_type": "code",
      "source": [
        "!pip install -q dm-sonnet\n",
        "!pip install -q seaborn -U"
      ],
      "execution_count": 0,
      "outputs": []
    },
    {
      "metadata": {
        "id": "yp07qGy_fhrp",
        "colab_type": "text"
      },
      "cell_type": "markdown",
      "source": [
        "## Imports\n",
        "\n",
        "We will use Sonnet to define the encoder and decoder networks."
      ]
    },
    {
      "metadata": {
        "id": "k3O60Q5ve1SD",
        "colab_type": "code",
        "colab": {}
      },
      "cell_type": "code",
      "source": [
        "from __future__ import absolute_import\n",
        "from __future__ import division\n",
        "from __future__ import print_function\n",
        "\n",
        "import math\n",
        "\n",
        "import tensorflow as tf\n",
        "import sonnet as snt\n",
        "\n",
        "import numpy as np\n",
        "\n",
        "# Plotting library.\n",
        "from matplotlib import pyplot as plt\n",
        "import seaborn as sns"
      ],
      "execution_count": 0,
      "outputs": []
    },
    {
      "metadata": {
        "id": "SuQEapz3fAew",
        "colab_type": "code",
        "colab": {}
      },
      "cell_type": "code",
      "source": [
        "tf.logging.set_verbosity(tf.logging.ERROR)"
      ],
      "execution_count": 0,
      "outputs": []
    },
    {
      "metadata": {
        "id": "QnodJ56FY8PW",
        "colab_type": "code",
        "colab": {}
      },
      "cell_type": "code",
      "source": [
        "sns.set(rc={\"lines.linewidth\": 2.8}, font_scale=2)\n",
        "sns.set_style(\"whitegrid\")"
      ],
      "execution_count": 0,
      "outputs": []
    },
    {
      "metadata": {
        "id": "q0uWUPtampze",
        "colab_type": "code",
        "colab": {}
      },
      "cell_type": "code",
      "source": [
        "# Don't forget to select GPU runtime environment in Runtime -> Change runtime type\n",
        "device_name = tf.test.gpu_device_name()\n",
        "if device_name != '/device:GPU:0':\n",
        "  raise SystemError('GPU device not found')\n",
        "print('Found GPU at: {}'.format(device_name))"
      ],
      "execution_count": 0,
      "outputs": []
    },
    {
      "metadata": {
        "id": "rQOPrU_tfljy",
        "colab_type": "text"
      },
      "cell_type": "markdown",
      "source": [
        "## Hyperparameters"
      ]
    },
    {
      "metadata": {
        "id": "iFjsBLsDCCAC",
        "colab_type": "code",
        "colab": {}
      },
      "cell_type": "code",
      "source": [
        "BATCH_SIZE = 64  # @param\n",
        "NUM_LATENTS = 20  # @param\n",
        "TRAINING_STEPS = 10000 # @param"
      ],
      "execution_count": 0,
      "outputs": []
    },
    {
      "metadata": {
        "id": "5cfQlEC07pal",
        "colab_type": "text"
      },
      "cell_type": "markdown",
      "source": [
        "## Get the data\n",
        "\n",
        "We will use the MNIST dataset. Luckly, TensorFlow comes with a simple way to load it. "
      ]
    },
    {
      "metadata": {
        "id": "5EHWPAsd7u50",
        "colab_type": "code",
        "colab": {
          "base_uri": "https://localhost:8080/",
          "height": 89
        },
        "outputId": "6822bd6e-5068-46bd-c0ff-b60be9af7bb5"
      },
      "cell_type": "code",
      "source": [
        "mnist = tf.contrib.learn.datasets.load_dataset(\"mnist\")"
      ],
      "execution_count": 0,
      "outputs": [
        {
          "output_type": "stream",
          "text": [
            "Extracting MNIST-data/train-images-idx3-ubyte.gz\n",
            "Extracting MNIST-data/train-labels-idx1-ubyte.gz\n",
            "Extracting MNIST-data/t10k-images-idx3-ubyte.gz\n",
            "Extracting MNIST-data/t10k-labels-idx1-ubyte.gz\n"
          ],
          "name": "stdout"
        }
      ]
    },
    {
      "metadata": {
        "id": "FWipXtlq8Ya9",
        "colab_type": "code",
        "colab": {
          "base_uri": "https://localhost:8080/",
          "height": 53
        },
        "outputId": "06d8406b-8937-45cf-937c-c8d4d2b89764"
      },
      "cell_type": "code",
      "source": [
        "print(mnist.train.images.shape)\n",
        "print(type(mnist.train.images))"
      ],
      "execution_count": 0,
      "outputs": [
        {
          "output_type": "stream",
          "text": [
            "(55000, 784)\n",
            "<type 'numpy.ndarray'>\n"
          ],
          "name": "stdout"
        }
      ]
    },
    {
      "metadata": {
        "id": "BWded8OecPFg",
        "colab_type": "text"
      },
      "cell_type": "markdown",
      "source": [
        "### Transform the data from numpy arrays to graph tensors.\n",
        "\n",
        "This allows us to use TensorFlow datasets, which ensure that a new batch from the data is being fed at each session.run. This means that we do not need to use feed_dicts to feed data to each session."
      ]
    },
    {
      "metadata": {
        "id": "QmrdDH2ibvGG",
        "colab_type": "code",
        "colab": {}
      },
      "cell_type": "code",
      "source": [
        "def make_tf_data_batch(np_data, shuffle=True):  \n",
        "  # Reshape the data to image size.\n",
        "  images = np_data.reshape((-1, 28, 28, 1))\n",
        "  \n",
        "  # Create the TF dataset.   \n",
        "  dataset = tf.data.Dataset.from_tensor_slices(images)\n",
        "  \n",
        "  # Shuffle and repeat the dataset for training.\n",
        "  # This is required because we want to do multiple passes through the entire\n",
        "  # dataset when training.\n",
        "  if shuffle:\n",
        "    dataset = dataset.shuffle(100000).repeat()\n",
        "    \n",
        "  # Batch the data and return the data batch.\n",
        "  one_shot_iterator = dataset.batch(BATCH_SIZE).make_one_shot_iterator()\n",
        "  data_batch = one_shot_iterator.get_next()\n",
        "  return data_batch"
      ],
      "execution_count": 0,
      "outputs": []
    },
    {
      "metadata": {
        "id": "kKwY_jfDHZdy",
        "colab_type": "code",
        "colab": {
          "base_uri": "https://localhost:8080/",
          "height": 35
        },
        "outputId": "e4dd4651-7421-408e-d745-3af8e47e83f7"
      },
      "cell_type": "code",
      "source": [
        "real_data = make_tf_data_batch(mnist.train.images)\n",
        "print(real_data.shape)"
      ],
      "execution_count": 0,
      "outputs": [
        {
          "output_type": "stream",
          "text": [
            "(?, 28, 28, 1)\n"
          ],
          "name": "stdout"
        }
      ]
    },
    {
      "metadata": {
        "id": "Acmy1z3P3V98",
        "colab_type": "text"
      },
      "cell_type": "markdown",
      "source": [
        "## Define the encoder and decoder (generator) networks"
      ]
    },
    {
      "metadata": {
        "id": "9UiHw8Ie4sl0",
        "colab_type": "text"
      },
      "cell_type": "markdown",
      "source": [
        "### Encoder network\n",
        "\n",
        "We use a conv net encoder, and add a linear layer at the end - the latents will be 1D."
      ]
    },
    {
      "metadata": {
        "id": "a7XoTvOhzFp9",
        "colab_type": "text"
      },
      "cell_type": "markdown",
      "source": [
        "## Exercise: Fill in the distribution for the encoder\n",
        "\n",
        "Remember: the encoder represents q(z|x)"
      ]
    },
    {
      "metadata": {
        "id": "QBauDYfA4IvX",
        "colab_type": "code",
        "colab": {}
      },
      "cell_type": "code",
      "source": [
        "class MnistEncoder(snt.AbstractModule):\n",
        "  \"\"\"The learned encoder distribution q(z|x).\n",
        "  \n",
        "    The output distribution will be a Normal distribution for each latent,\n",
        "    with the mean and variance of the distribution being learned by gradient \n",
        "    descent.\n",
        "    \n",
        "    The variables of this module get a loss from both the likelihood and \n",
        "    the KL term. We do not have to worry about the reparamtrization trick, since\n",
        "    TensorFlow implements that for us, for the Normal distribution.\n",
        "  \"\"\"\n",
        "\n",
        "  def __init__(self, name='MnistEncoder'):\n",
        "    super(MnistEncoder, self).__init__(name=name)\n",
        "\n",
        "  def _build(self, input_image):\n",
        "    \"\"\"Constructs the encoder graph.\n",
        "\n",
        "    Args:\n",
        "      input_image: `tf.Tensor` input to be used by the encoder.\n",
        "\n",
        "    Returns:\n",
        "      `tf.Tensor` output with the decision of the encoder.\n",
        "    \"\"\"\n",
        "    \n",
        "    conv2d = snt.nets.ConvNet2D(\n",
        "        output_channels=[8, 16, 32, 64, 128],\n",
        "        kernel_shapes=[[5, 5]],\n",
        "        strides=[2, 1, 2, 1, 2],\n",
        "        paddings=[snt.SAME],\n",
        "        activate_final=True,\n",
        "        activation=tf.nn.relu,\n",
        "        use_batch_norm=False)\n",
        "\n",
        "    convolved = conv2d(input_image)\n",
        "    \n",
        "    # Flatten the data to 2D for getting the mean and variance from the encoder.\n",
        "    flat_data = snt.BatchFlatten()(convolved)\n",
        "    \n",
        "    # TODO: build the encoder distribution q(z|x) for the given input.\n"
      ],
      "execution_count": 0,
      "outputs": []
    },
    {
      "metadata": {
        "id": "1YwZqHFXyie5",
        "colab_type": "text"
      },
      "cell_type": "markdown",
      "source": [
        "## Exercise: Fill in the distribution for the decoder\n",
        "\n",
        "Remember: the decoder represents p(x|z)"
      ]
    },
    {
      "metadata": {
        "id": "UYeq8SF-4Lmp",
        "colab_type": "text"
      },
      "cell_type": "markdown",
      "source": [
        "### Decoder network\n",
        "\n",
        "We use a simple Transpose convolutional network. Because the input to the model is 2 dimensional, we first use a linear layer to transform the input latents to a size suitable for the conv network."
      ]
    },
    {
      "metadata": {
        "id": "L_hok1Yo3VXm",
        "colab_type": "code",
        "colab": {}
      },
      "cell_type": "code",
      "source": [
        "class MnistDecoder(snt.AbstractModule):\n",
        "  \"\"\"The learned decoder distribution p(x|z).\n",
        "  \n",
        "    The variables of this module get a loss from the likelihood term and are\n",
        "    trained using gradient descent.\n",
        "  \"\"\"\n",
        "\n",
        "  def __init__(self, name='MnistDecoder'):\n",
        "    super(MnistDecoder, self).__init__(name=name)\n",
        "\n",
        "  def _build(self, inputs):\n",
        "    \"\"\"Constructs the generator graph.\n",
        "\n",
        "    Args:\n",
        "      inputs: `tf.Tensor` with the input of the generator.\n",
        "\n",
        "    Returns:\n",
        "      `tf.Tensor`, the generated samples.\n",
        "    \"\"\"\n",
        "    linear = snt.Linear(7 * 7 * 64)\n",
        "    inputs = linear(inputs)\n",
        "    \n",
        "    # Reshape the data to have rank 4.\n",
        "    inputs = snt.BatchReshape((7, 7, 64))(inputs)\n",
        "    inputs = tf.nn.relu(inputs)\n",
        "\n",
        "    net = snt.nets.ConvNet2DTranspose(\n",
        "        output_channels=[32, 1],\n",
        "        output_shapes=[[14, 14], [28, 28]],\n",
        "        strides=[2],\n",
        "        paddings=[snt.SAME],\n",
        "        kernel_shapes=[[5, 5]],\n",
        "        use_batch_norm=False)\n",
        "\n",
        "\n",
        "   # TODO: build the decoder distribution p(x|z) for the given input latents.\n",
        "  "
      ],
      "execution_count": 0,
      "outputs": []
    },
    {
      "metadata": {
        "id": "wCMHZKfkhyWN",
        "colab_type": "text"
      },
      "cell_type": "markdown",
      "source": [
        "## VAE logic\n",
        "\n",
        "Variational bound:\n",
        "\\begin{equation}\n",
        " \\mathbb{E}_{p^*(x)} \\mathbb{E}_{q(z|x)} \\log p_\\theta(x|z)  - \\mathbb{E}_{p^*(x)} KL(q(z|x)||p(z))\n",
        "\\end{equation}\n",
        "\n",
        "The aim of the model is to maximize the variational lower bound, so the negative of the bound is minimized.\n",
        "\n",
        "<h2 align=\"center\"></h2> <img src=\"http://elarosca.net/vae.png?format=100w\" width=500 >\n",
        "\n"
      ]
    },
    {
      "metadata": {
        "id": "JD-iLt9eibPA",
        "colab_type": "code",
        "colab": {
          "base_uri": "https://localhost:8080/",
          "height": 35
        },
        "outputId": "25e6b6f3-685f-4c2c-8085-819622f539bc"
      },
      "cell_type": "code",
      "source": [
        "encoder = MnistEncoder()\n",
        "decoder = MnistDecoder()\n",
        "\n",
        "# Zero mean, unit variance prior.\n",
        "prior_mean = tf.zeros(shape=(BATCH_SIZE, NUM_LATENTS), dtype=tf.float32)\n",
        "prior_scale = tf.ones(shape=(BATCH_SIZE, NUM_LATENTS), dtype=tf.float32)\n",
        "prior = tf.distributions.Normal(loc=prior_mean, scale=prior_scale)\n",
        "\n",
        "print('Latent samples {}'.format(prior.sample().shape))"
      ],
      "execution_count": 0,
      "outputs": [
        {
          "output_type": "stream",
          "text": [
            "Latent samples (?, 20)\n"
          ],
          "name": "stdout"
        }
      ]
    },
    {
      "metadata": {
        "id": "s61KNPHvk2VS",
        "colab_type": "text"
      },
      "cell_type": "markdown",
      "source": [
        "## Define the graph for the loss\n",
        "\n",
        "Since we want to maximize the bound on the log probability of the data, we minimize the negative of the bound.\n",
        "\n",
        "The terms of the bound are: the log prob term, and the KL term."
      ]
    },
    {
      "metadata": {
        "id": "iePLy5C7z_5B",
        "colab_type": "text"
      },
      "cell_type": "markdown",
      "source": [
        "### Log prob term\n",
        "\n",
        "Reminder: this term ensures reconstructions will look good.\n",
        "\n",
        "\\begin{equation}\n",
        " \\mathbb{E}_{p^*(x)} \\mathbb{E}_{q^(z|x)} \\log p_\\theta(x|z)\n",
        "\\end{equation}\n"
      ]
    },
    {
      "metadata": {
        "id": "-WyyBOYv0BXV",
        "colab_type": "text"
      },
      "cell_type": "markdown",
      "source": [
        "### KL term\n",
        "\n",
        "Reminder: this term ensures model samples (obtained by sampling from the prior and doing a forward pass through the decoder) are close to data reconstructions (which are obtained by doing a pass through the encoder, getting posterior samples, and then using them to generate data reconstructions).\n",
        "\n",
        "\\begin{equation}\n",
        " - \\mathbb{E}_{p^*(x)} KL(q(z|x)||p(z))\n",
        "\\end{equation}"
      ]
    },
    {
      "metadata": {
        "id": "VwLMBKr0zbhn",
        "colab_type": "text"
      },
      "cell_type": "markdown",
      "source": [
        "## Exercise: Fill in the individual losses\n",
        "\n",
        "The KL and the reconstruction loss."
      ]
    },
    {
      "metadata": {
        "id": "pvm-DnXpZdkk",
        "colab_type": "code",
        "colab": {}
      },
      "cell_type": "code",
      "source": [
        "def bound_terms(data_batch):\n",
        "\n",
        "  # Define the posterior distribution\n",
        "  posterior_distribution = ...\n",
        "  \n",
        "  # Samples from q(z |x )   \n",
        "  latent_sample = ...\n",
        "\n",
        "  # Log prob of the original data under p_theta(  |z)\n",
        "  all_log_probs = ...\n",
        "\n",
        "  # Since we used broadcasting, log_prob of a Bernoulli will return a log_prob for \n",
        "  # each dimension.\n",
        "  all_log_probs.shape.assert_is_compatible_with([BATCH_SIZE, 28, 28, 1])\n",
        "\n",
        "  # Reduce sum over the data dimensions\n",
        "  likelihood_term = tf.reduce_sum(all_log_probs, axis=[1, 2, 3])\n",
        "\n",
        "  # Reduce mean over the batch dimensions\n",
        "  likelihood_term = tf.reduce_mean(likelihood_term)\n",
        "\n",
        "  # Define the KL divergence   \n",
        "  all_kls = ...\n",
        "  all_kls.shape.assert_is_compatible_with([BATCH_SIZE, NUM_LATENTS])\n",
        "\n",
        "  # Reduce sum over the latent dimensions.\n",
        "  kl_term = tf.reduce_sum(all_kls, axis=[1])\n",
        "\n",
        "  # Reduce over the batch dimension.\n",
        "  kl_term = tf.reduce_mean(kl_term)\n",
        "  \n",
        "  return likelihood_term, kl_term"
      ],
      "execution_count": 0,
      "outputs": []
    },
    {
      "metadata": {
        "id": "FGKjcY8o0GeF",
        "colab_type": "text"
      },
      "cell_type": "markdown",
      "source": [
        "## Exercise: Total Loss \n",
        "\n",
        "Combine the likelihood term and the KL term to define the likelihood bound and the loss.\n",
        "\n",
        "Remember: we will minimize the loss, but we want to maximize the bound."
      ]
    },
    {
      "metadata": {
        "id": "v3R5gjUC0IMh",
        "colab_type": "code",
        "colab": {}
      },
      "cell_type": "code",
      "source": [
        "# Maximize the data likelihodd and minimize the KL divergence between the prior and posterior\n",
        "likelihood_term, kl_term = bound_terms(real_data)\n",
        "train_bound = ...\n",
        "loss =  ..."
      ],
      "execution_count": 0,
      "outputs": []
    },
    {
      "metadata": {
        "id": "njDk4CGSkalW",
        "colab_type": "text"
      },
      "cell_type": "markdown",
      "source": [
        "## Exercise: Define the sample and reconstruction tensors\n",
        "\n",
        "Note: VAEs have no direct cost on samples. The quality of the samples improves, because the likelihood term ensures that the model will reconstruct well, while the KL term brings samples close to reconstructions.\n",
        "\n"
      ]
    },
    {
      "metadata": {
        "id": "RDUbZFB4kb2t",
        "colab_type": "code",
        "colab": {}
      },
      "cell_type": "code",
      "source": [
        "samples = ..."
      ],
      "execution_count": 0,
      "outputs": []
    },
    {
      "metadata": {
        "id": "JmtGtWstet6h",
        "colab_type": "code",
        "colab": {}
      },
      "cell_type": "code",
      "source": [
        "reconstructions = ..."
      ],
      "execution_count": 0,
      "outputs": []
    },
    {
      "metadata": {
        "id": "3CthSKUMjJBP",
        "colab_type": "text"
      },
      "cell_type": "markdown",
      "source": [
        "## Define the optimizer\n",
        "\n",
        "We will train the encoder and decoder jointly, to minimize the same loss."
      ]
    },
    {
      "metadata": {
        "id": "h-oiJ8ybjKn3",
        "colab_type": "code",
        "colab": {}
      },
      "cell_type": "code",
      "source": [
        "optimizer = tf.train.AdamOptimizer(0.001, beta1=0.9, beta2=0.9)\n",
        "update_op = optimizer.minimize(loss)"
      ],
      "execution_count": 0,
      "outputs": []
    },
    {
      "metadata": {
        "id": "73AZS7Rfbxj1",
        "colab_type": "text"
      },
      "cell_type": "markdown",
      "source": [
        "## Create the tensorflow session"
      ]
    },
    {
      "metadata": {
        "id": "3Qvja62rEClx",
        "colab_type": "code",
        "colab": {}
      },
      "cell_type": "code",
      "source": [
        "sess = tf.Session()\n",
        "\n",
        "# Initialize all variables\n",
        "sess.run(tf.global_variables_initializer())"
      ],
      "execution_count": 0,
      "outputs": []
    },
    {
      "metadata": {
        "id": "jrW5Nrh7b3w1",
        "colab_type": "text"
      },
      "cell_type": "markdown",
      "source": [
        "## Training"
      ]
    },
    {
      "metadata": {
        "id": "wgvYiuQib5FY",
        "colab_type": "code",
        "colab": {
          "base_uri": "https://localhost:8080/",
          "height": 197
        },
        "outputId": "82aaa5ea-e614-4f97-9372-deffbaad7da6"
      },
      "cell_type": "code",
      "source": [
        "losses = []\n",
        "\n",
        "for i in xrange(TRAINING_STEPS):\n",
        "  sess.run(update_op)\n",
        "  \n",
        "  if i % 100 == 0:\n",
        "    iteration_loss = sess.run(loss)\n",
        "    print('Iteration {}. Loss {}'.format(i, iteration_loss))\n",
        "    losses.append(iteration_loss)"
      ],
      "execution_count": 0,
      "outputs": [
        {
          "output_type": "stream",
          "text": [
            "Iteration 0. Loss 608.814880371\n",
            "Iteration 100. Loss 213.377548218\n",
            "Iteration 200. Loss 194.081817627\n",
            "Iteration 300. Loss 164.966598511\n",
            "Iteration 400. Loss 144.333953857\n",
            "Iteration 500. Loss 137.072845459\n",
            "Iteration 600. Loss 132.694793701\n",
            "Iteration 700. Loss 122.336486816\n",
            "Iteration 800. Loss 116.622253418\n",
            "Iteration 900. Loss 122.743522644\n"
          ],
          "name": "stdout"
        }
      ]
    },
    {
      "metadata": {
        "id": "WO8-O_MVp9h3",
        "colab_type": "text"
      },
      "cell_type": "markdown",
      "source": [
        "## Visualize the loss in time"
      ]
    },
    {
      "metadata": {
        "id": "XlA-gGsnqA-Z",
        "colab_type": "code",
        "colab": {}
      },
      "cell_type": "code",
      "source": [
        "plt.figure(figsize=(10,5))\n",
        "plt.plot(losses, label='Negative log likelihood Bound')\n",
        "plt.xlabel('Time')\n",
        "plt.legend()"
      ],
      "execution_count": 0,
      "outputs": []
    },
    {
      "metadata": {
        "id": "Xrd62Qj7WULf",
        "colab_type": "code",
        "colab": {}
      },
      "cell_type": "code",
      "source": [
        ""
      ],
      "execution_count": 0,
      "outputs": []
    },
    {
      "metadata": {
        "id": "0xHqdJ2Eb8UO",
        "colab_type": "text"
      },
      "cell_type": "markdown",
      "source": [
        "## Visualize samples, reconstructions"
      ]
    },
    {
      "metadata": {
        "id": "_m7aF5q8Yao6",
        "colab_type": "code",
        "colab": {}
      },
      "cell_type": "code",
      "source": [
        "def gallery(array, ncols=10, rescale=True):\n",
        "    if rescale:\n",
        "      array = (array + 1.) / 2\n",
        "    nindex, height, width, intensity = array.shape\n",
        "    nrows = nindex//ncols\n",
        "    assert nindex == nrows*ncols\n",
        "    # want result.shape = (height*nrows, width*ncols, intensity)\n",
        "    result = (array.reshape(nrows, ncols, height, width, intensity)\n",
        "              .swapaxes(1,2)\n",
        "              .reshape(height*nrows, width*ncols, intensity))\n",
        "    return result\n"
      ],
      "execution_count": 0,
      "outputs": []
    },
    {
      "metadata": {
        "id": "1eU3llAAb-lk",
        "colab_type": "code",
        "colab": {
          "base_uri": "https://localhost:8080/",
          "height": 35
        },
        "outputId": "3af74443-4ffd-4307-8e3c-30e933fb84eb"
      },
      "cell_type": "code",
      "source": [
        "real_data_examples = sess.run(real_data)\n",
        "final_samples = sess.run(samples)\n",
        "data_reconstructions = sess.run(reconstructions)\n",
        "print(data_reconstructions.shape)"
      ],
      "execution_count": 0,
      "outputs": [
        {
          "output_type": "stream",
          "text": [
            "(64, 28, 28, 1)\n"
          ],
          "name": "stdout"
        }
      ]
    },
    {
      "metadata": {
        "id": "K1SkUv8CbYCb",
        "colab_type": "text"
      },
      "cell_type": "markdown",
      "source": [
        "### Real data"
      ]
    },
    {
      "metadata": {
        "id": "Fpw4vXGgM2re",
        "colab_type": "code",
        "colab": {
          "base_uri": "https://localhost:8080/",
          "height": 299
        },
        "outputId": "ea9ec94c-12d9-470c-df2b-5baf74f636ca"
      },
      "cell_type": "code",
      "source": [
        "plt.gray()\n",
        "plt.axis('off')\n",
        "plt.imshow(gallery(real_data_examples, ncols=8).squeeze(axis=2))"
      ],
      "execution_count": 0,
      "outputs": [
        {
          "output_type": "execute_result",
          "data": {
            "text/plain": [
              "<matplotlib.image.AxesImage at 0x7fb996fe9d90>"
            ]
          },
          "metadata": {
            "tags": []
          },
          "execution_count": 23
        },
        {
          "output_type": "display_data",
          "data": {
            "image/png": "[encoded data removed]",
            "text/plain": [
              "<matplotlib.figure.Figure at 0x7fb9998c4550>"
            ]
          },
          "metadata": {
            "tags": []
          }
        }
      ]
    },
    {
      "metadata": {
        "id": "01U3ppUSba9n",
        "colab_type": "text"
      },
      "cell_type": "markdown",
      "source": [
        "### Samples"
      ]
    },
    {
      "metadata": {
        "id": "_0mUKS3AMYmY",
        "colab_type": "code",
        "colab": {}
      },
      "cell_type": "code",
      "source": [
        "plt.gray()\n",
        "plt.axis('off')\n",
        "plt.imshow(gallery(final_samples, ncols=8).squeeze(axis=2))"
      ],
      "execution_count": 0,
      "outputs": []
    },
    {
      "metadata": {
        "id": "NJluooqlbdYG",
        "colab_type": "text"
      },
      "cell_type": "markdown",
      "source": [
        "### Reconstructions"
      ]
    },
    {
      "metadata": {
        "id": "7Kzn8Ksoe_p-",
        "colab_type": "code",
        "colab": {}
      },
      "cell_type": "code",
      "source": [
        "plt.gray()\n",
        "plt.axis('off')\n",
        "plt.imshow(gallery(data_reconstructions, ncols=8).squeeze(axis=2))"
      ],
      "execution_count": 0,
      "outputs": []
    },
    {
      "metadata": {
        "id": "FMwyujkrKaCp",
        "colab_type": "text"
      },
      "cell_type": "markdown",
      "source": [
        "## Final training log prob aver multiple batches"
      ]
    },
    {
      "metadata": {
        "id": "T9eTjJ8jKml8",
        "colab_type": "code",
        "colab": {}
      },
      "cell_type": "code",
      "source": [
        "NUM_TEST_BATCHES = 10 # @param"
      ],
      "execution_count": 0,
      "outputs": []
    },
    {
      "metadata": {
        "id": "bNbyFu9IKk_L",
        "colab_type": "code",
        "colab": {
          "base_uri": "https://localhost:8080/",
          "height": 35
        },
        "outputId": "bf695cf2-1c2a-401e-a512-b81e9af0f594"
      },
      "cell_type": "code",
      "source": [
        "train_log_prob = []\n",
        "\n",
        "for _ in xrange(NUM_TEST_BATCHES):\n",
        "  train_log_prob.append(sess.run(train_bound))\n",
        "  \n",
        "train_avg_log_prob = np.mean(train_log_prob)\n",
        "  \n",
        "print('Averaged training log prob bound {}'.format(train_avg_log_prob))"
      ],
      "execution_count": 0,
      "outputs": [
        {
          "output_type": "stream",
          "text": [
            "Averaged training log prob -116.380203247\n"
          ],
          "name": "stdout"
        }
      ]
    },
    {
      "metadata": {
        "id": "4-fiNrWg6qRL",
        "colab_type": "text"
      },
      "cell_type": "markdown",
      "source": [
        "## Exercise: Checking for overfitting - test likelihoods\n",
        "\n",
        "\n",
        "We want to ensure that the model has not overfitted - to do that, we see if it gives a higher likelihood to training data compared to test data. If this is the case, we can conclude the model is overfitting."
      ]
    },
    {
      "metadata": {
        "id": "UyDb1c-_cDDN",
        "colab_type": "text"
      },
      "cell_type": "markdown",
      "source": [
        "### Get test data"
      ]
    },
    {
      "metadata": {
        "id": "Hia807m26osw",
        "colab_type": "code",
        "colab": {}
      },
      "cell_type": "code",
      "source": [
        "test_data_batch = make_tf_data_batch(mnist.test.images)"
      ],
      "execution_count": 0,
      "outputs": []
    },
    {
      "metadata": {
        "id": "pJQwUUg_n9bB",
        "colab_type": "code",
        "colab": {}
      },
      "cell_type": "code",
      "source": [
        "test_bound = ..."
      ],
      "execution_count": 0,
      "outputs": []
    },
    {
      "metadata": {
        "id": "Nb8uoEkboAXY",
        "colab_type": "code",
        "colab": {
          "base_uri": "https://localhost:8080/",
          "height": 35
        },
        "outputId": "20ab6a0c-06cc-4a09-d6d0-d00470b4cbb9"
      },
      "cell_type": "code",
      "source": [
        "test_log_prob = []\n",
        "\n",
        "for _ in xrange(NUM_TEST_BATCHES):\n",
        "  test_log_prob.append(sess.run(test_bound))\n",
        "  \n",
        "test_avg_log_prob = np.mean(test_log_prob)\n",
        "  \n",
        "print('Averaged test log prob bound {}'.format(test_avg_log_prob))\n"
      ],
      "execution_count": 0,
      "outputs": [
        {
          "output_type": "stream",
          "text": [
            "Averaged test log prob -115.400169373\n"
          ],
          "name": "stdout"
        }
      ]
    },
    {
      "metadata": {
        "id": "5OmDkc3Vyrd2",
        "colab_type": "text"
      },
      "cell_type": "markdown",
      "source": [
        "## Analyse the structure of the latent variables\n",
        "\n",
        "VAEs are generative and inference models. So far we have looked at samples, and reconstructions, but we have not looked at the learned representations. \n",
        "\n",
        "We will now analyze the learned VAE representations by looking at the KLs per latent, but also by doing latent space traversals.\n",
        "\n",
        "Remember that the KL term is important, since the KL term ensures that the quality of the samples is going to be close to that of the reconstrunctions.\n"
      ]
    },
    {
      "metadata": {
        "id": "Bzm9uGiz6Mf-",
        "colab_type": "code",
        "colab": {}
      },
      "cell_type": "code",
      "source": [
        "num_batches = int(mnist.train.images.shape[0] / BATCH_SIZE)\n",
        "data_batch = make_tf_data_batch(mnist.train.images, shuffle=False)"
      ],
      "execution_count": 0,
      "outputs": []
    },
    {
      "metadata": {
        "id": "YjYhRWj_5TSf",
        "colab_type": "code",
        "colab": {}
      },
      "cell_type": "code",
      "source": [
        "posterior_distribution = encoder(data_batch)\n",
        "\n",
        "all_kls = tf.distributions.kl_divergence(posterior_distribution, prior)\n",
        "all_kls.shape.assert_is_compatible_with([BATCH_SIZE, NUM_LATENTS])\n",
        "\n",
        "# Reduce over the batch dimension.\n",
        "kls = tf.reduce_mean(all_kls, axis=[0])\n",
        "kls.shape.assert_is_compatible_with([NUM_LATENTS])"
      ],
      "execution_count": 0,
      "outputs": []
    },
    {
      "metadata": {
        "id": "LhVQmrAP6D0e",
        "colab_type": "code",
        "colab": {}
      },
      "cell_type": "code",
      "source": [
        "aggregate_kl = np.zeros([NUM_LATENTS])\n",
        "for _ in xrange(num_batches):\n",
        "  aggregate_kl += sess.run(kls)\n",
        "  \n",
        "aggregate_kl /= num_batches"
      ],
      "execution_count": 0,
      "outputs": []
    },
    {
      "metadata": {
        "id": "aW36aYIO7IEz",
        "colab_type": "text"
      },
      "cell_type": "markdown",
      "source": [
        "### Plot the kl divergences per latent\n",
        "\n",
        "Because we used a factorizable prior (a Gaussian with unit covariance), the KL divergence\n",
        "also factorizes, and we can see a KL divergence per unit). Here we analyze the KL divergence of each unit, to see how the model uses each latent unit.\n",
        "\n",
        "We will see that if we increase the number of latent variables, the VAE \"turns off\" units, by setting their distribution to that of the prior."
      ]
    },
    {
      "metadata": {
        "id": "eEQlhyYc7G_Q",
        "colab_type": "code",
        "colab": {}
      },
      "cell_type": "code",
      "source": [
        "def get_grid_size(num_latents):\n",
        "  num_latents_sqrt = np.sqrt(num_latents)\n",
        "  width = int(num_latents_sqrt)\n",
        "  while num_latents % width !=0:\n",
        "    width -= 1\n",
        "  return width, int(num_latents / width)\n",
        "\n",
        "aggregate_kl = np.reshape(aggregate_kl, get_grid_size(NUM_LATENTS))\n",
        "cmap = sns.cubehelix_palette(4, start=2, rot=0, dark=0, light=.96)\n",
        "np.random.shuffle(aggregate_kl)\n",
        "sns.heatmap(aggregate_kl, vmin=0, vmax=2, linewidths=.05, cmap=cmap)\n",
        "plt.axis('off')\n"
      ],
      "execution_count": 0,
      "outputs": []
    },
    {
      "metadata": {
        "id": "Cr1gCMEmVZIB",
        "colab_type": "text"
      },
      "cell_type": "markdown",
      "source": [
        "## Latent space interpolation\n",
        "\n",
        "By doing an interpolation in latent space, we can analyze the behaviour of the model."
      ]
    },
    {
      "metadata": {
        "id": "MYBVXhEM4nES",
        "colab_type": "code",
        "colab": {}
      },
      "cell_type": "code",
      "source": [
        "a = np.linspace(0.0, 1.0, 100)\n",
        "a = np.expand_dims(a, axis=1)\n",
        "\n",
        "first_latents = tf.random_normal((1, NUM_LATENTS))\n",
        "second_latents = tf.random_normal((1, NUM_LATENTS))\n",
        "\n",
        "interpolations =  np.sqrt(a) * first_latents + np.sqrt(1 - a) * second_latents\n",
        "# interpolations =  a * first_latents + (1 - a) * second_latents\n",
        "\n",
        "samples_from_interpolations = decoder(interpolations).mean()\n"
      ],
      "execution_count": 0,
      "outputs": []
    },
    {
      "metadata": {
        "id": "Lq9L6Ex74wk3",
        "colab_type": "code",
        "colab": {}
      },
      "cell_type": "code",
      "source": [
        "samples_from_interpolations_np = sess.run(samples_from_interpolations)"
      ],
      "execution_count": 0,
      "outputs": []
    },
    {
      "metadata": {
        "id": "Gj0VCK_z4y7U",
        "colab_type": "code",
        "colab": {
          "base_uri": "https://localhost:8080/",
          "height": 35
        },
        "outputId": "c74b560f-ece5-4a9b-cd42-69beb10acd45"
      },
      "cell_type": "code",
      "source": [
        "print(samples_from_interpolations_np.shape)"
      ],
      "execution_count": 0,
      "outputs": [
        {
          "output_type": "stream",
          "text": [
            "(100, 28, 28, 1)\n"
          ],
          "name": "stdout"
        }
      ]
    },
    {
      "metadata": {
        "id": "AM9pfkjo41lw",
        "colab_type": "code",
        "colab": {}
      },
      "cell_type": "code",
      "source": [
        "plt.gray()\n",
        "plt.axis('off')\n",
        "plt.imshow(gallery(samples_from_interpolations_np).squeeze(axis=2))\n",
        "plt.show()"
      ],
      "execution_count": 0,
      "outputs": []
    },
    {
      "metadata": {
        "id": "7vCzjVdPjris",
        "colab_type": "text"
      },
      "cell_type": "markdown",
      "source": [
        "### Exercise: change the number of latents (to 100) and see what happens with the KL plot.\n",
        "\n"
      ]
    },
    {
      "metadata": {
        "id": "E7KYRykh5oCY",
        "colab_type": "text"
      },
      "cell_type": "markdown",
      "source": [
        "## Close session"
      ]
    },
    {
      "metadata": {
        "id": "EUEhfo6X5p_v",
        "colab_type": "code",
        "colab": {}
      },
      "cell_type": "code",
      "source": [
        "# sess.close()"
      ],
      "execution_count": 0,
      "outputs": []
    },
    {
      "metadata": {
        "id": "AikrCSKNkDkV",
        "colab_type": "text"
      },
      "cell_type": "markdown",
      "source": [
        "## Reflections\n",
        "\n",
        "* What can VAEs be used for?\n",
        "* How do VAEs learn to sample?"
      ]
    },
    {
      "metadata": {
        "id": "cDV-VHNrk7gS",
        "colab_type": "text"
      },
      "cell_type": "markdown",
      "source": [
        "### VAE samples on other datasets\n",
        "\n",
        "Note: these are samples with the vanilla algorithm, but they can be improved using better complex distributions.\n",
        "\n",
        "#### CIFAR-10\n",
        "<h2 align=\"center\"></h2> <img src=\"http://elarosca.net/cifar_vae_samples_last.jpeg?format=100w\" width=500 >\n",
        "\n",
        "#### CelebA\n",
        "# <h2 align=\"center\"></h2> <img src=\"http://elarosca.net/celeba_vae_samples_last.jpeg?format=100w\" width=500 >\n",
        "\n"
      ]
    }
  ]
}