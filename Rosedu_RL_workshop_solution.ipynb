{
  "nbformat": 4,
  "nbformat_minor": 0,
  "metadata": {
    "colab": {
      "name": "Rosedu_RL_workshop_solution.ipynb",
      "version": "0.3.2",
      "provenance": [],
      "collapsed_sections": [
        "SfIkMhcDupVN"
      ],
      "include_colab_link": true
    },
    "kernelspec": {
      "name": "python2",
      "display_name": "Python 2"
    },
    "accelerator": "GPU"
  },
  "cells": [
    {
      "cell_type": "markdown",
      "metadata": {
        "id": "view-in-github",
        "colab_type": "text"
      },
      "source": [
        "[View in Colaboratory](https://colab.research.google.com/github/ioanachelu/PracticalSessions/blob/master/Rosedu_RL_workshop_solution.ipynb)"
      ]
    },
    {
      "metadata": {
        "id": "H60DVrDg1_Gq",
        "colab_type": "text"
      },
      "cell_type": "markdown",
      "source": [
        "#RL Tutorial \n",
        "\n",
        "**Special thanks to**: Hado van Hassel, Matteo Hessel"
      ]
    },
    {
      "metadata": {
        "id": "9v_SYckYfv5G",
        "colab_type": "text"
      },
      "cell_type": "markdown",
      "source": [
        "## Content\n",
        "\n",
        "In this tutorial, we will investigate the properties of 3 distinct reinforcement learning algorithms:\n",
        "\n",
        "* Policy Evaluation\n",
        "* Online Control: SARSA, Q-learning\n",
        "* Experience Replay\n",
        "* REINFORCE Algorithm \n",
        "\n",
        "Some dimensions of the RL problems we will be considering:\n",
        "* Tabular vs Function Approximation\n",
        "* Off-policy/On-policy Control\n",
        "* Online vs Replay\n",
        "* Exploration vs Exploitation \n",
        "\n",
        "\n",
        "## Background reading\n",
        "\n",
        "* Sutton and Barto (2018), Chapters 3-8"
      ]
    },
    {
      "metadata": {
        "id": "rNuohp44N00i",
        "colab_type": "text"
      },
      "cell_type": "markdown",
      "source": [
        "## Objectives\n",
        "\n",
        "You will use Python to implement several reinforcement learning algorithms. Only the second part will deal with functional approximation for which we will be using neural networks to approximate value functions and policies.\n",
        "\n",
        "You will then run these algorithms on a few problems, to understand their properties and different emerging behaviour. In this tutorial we will focus primarily on fundamental algorithms in RL and explore them in a simple gridworld setting. That being said, these are algorithms that have now been shown to scale very well with (non-linear) functional approximations. \n"
      ]
    },
    {
      "metadata": {
        "id": "ztQEQvnKh2t6",
        "colab_type": "text"
      },
      "cell_type": "markdown",
      "source": [
        "# Setup"
      ]
    },
    {
      "metadata": {
        "id": "Ps5OnkPmDbMX",
        "colab_type": "code",
        "colab": {}
      },
      "cell_type": "code",
      "source": [
        "import matplotlib.pyplot as plt\n",
        "import numpy as np\n",
        "from collections import namedtuple\n",
        "import itertools\n",
        "import tensorflow as tf\n",
        "\n",
        "\n",
        "np.set_printoptions(precision=3, suppress=1)\n",
        "plt.style.use('seaborn-notebook')\n",
        "plt.style.use('seaborn-whitegrid')\n",
        "\n",
        "tf.logging.set_verbosity(tf.logging.ERROR)"
      ],
      "execution_count": 0,
      "outputs": []
    },
    {
      "metadata": {
        "id": "ALrRR76eAd6u",
        "colab_type": "text"
      },
      "cell_type": "markdown",
      "source": [
        "## Environments: Grid-Worlds"
      ]
    },
    {
      "metadata": {
        "id": "uMC6nODK1HAV",
        "colab_type": "text"
      },
      "cell_type": "markdown",
      "source": [
        "**(Simple) Tabular Grid-World**\n",
        "\n",
        "You can visualize the grid worlds we will train our agents on, by running the cells below.\n",
        "`S` indicates the start state and `G` indicates the goal.  The agent has four possible actions: up, right, down, and left.  Rewards are: `-5` for bumping into a wall, `+10` for reaching the goal, and `0` otherwise -- unless configurated/stated otherwise.  The episode ends when the agent reaches the goal, and otherwise continues.  The discount, on continuing steps, is $\\gamma = 0.9$.\n",
        "\n",
        "We will use two distinct GridWorlds:\n",
        "* `Grid` tabular grid world with a goal in the top right of the grid\n",
        "* `AltGrid` tabular grid world with a goal in the bottom left of the grid"
      ]
    },
    {
      "metadata": {
        "id": "YP97bVN3NuG8",
        "colab_type": "code",
        "colab": {},
        "cellView": "both"
      },
      "cell_type": "code",
      "source": [
        "#@title Environment: Gridworld Implementation\n",
        "class Grid(object):\n",
        "\n",
        "  def __init__(self, discount=0.9, penalty_for_walls=-5):\n",
        "    # -1: wall\n",
        "    # 0: empty, episode continues\n",
        "    # other: number indicates reward, episode will terminate\n",
        "    self._layout = np.array([\n",
        "      [-1, -1, -1, -1, -1, -1, -1, -1, -1, -1],\n",
        "      [-1,  0,  0,  0,  0,  0, -1,  0,  0, -1],\n",
        "      [-1,  0,  0,  0, -1,  0,  0,  0, 10, -1],\n",
        "      [-1,  0,  0,  0, -1, -1,  0,  0,  0, -1],\n",
        "      [-1,  0,  0,  0, -1, -1,  0,  0,  0, -1],\n",
        "      [-1,  0,  0,  0,  0,  0,  0,  0,  0, -1],\n",
        "      [-1,  0,  0,  0,  0,  0,  0,  0,  0, -1],\n",
        "      [-1,  0,  0,  0,  0,  0,  0,  0,  0, -1],\n",
        "      [-1, -1, -1, -1, -1, -1, -1, -1, -1, -1]\n",
        "    ])\n",
        "    self._start_state = (2, 2)\n",
        "    self._goal_state = (8, 2)\n",
        "    self._state = self._start_state\n",
        "    self._number_of_states = np.prod(np.shape(self._layout))\n",
        "    self._discount = discount\n",
        "    self._penalty_for_walls = penalty_for_walls\n",
        "\n",
        "  @property\n",
        "  def number_of_states(self):\n",
        "      return self._number_of_states\n",
        "    \n",
        "  def plot_grid(self):\n",
        "    plt.figure(figsize=(3, 3))\n",
        "    plt.imshow(self._layout <= -1, interpolation=\"nearest\")     \n",
        "    ax = plt.gca()\n",
        "    ax.grid(0)\n",
        "    plt.xticks([])\n",
        "    plt.yticks([])\n",
        "    plt.title(\"The grid\")\n",
        "    plt.text(\n",
        "        self._start_state[0], self._start_state[1], \n",
        "        r\"$\\mathbf{S}$\", ha='center', va='center')\n",
        "    plt.text(\n",
        "        self._goal_state[0], self._goal_state[1], \n",
        "        r\"$\\mathbf{G}$\", ha='center', va='center')\n",
        "    h, w = self._layout.shape\n",
        "    for y in range(h-1):\n",
        "      plt.plot([-0.5, w-0.5], [y+0.5, y+0.5], '-k', lw=2)\n",
        "    for x in range(w-1):\n",
        "      plt.plot([x+0.5, x+0.5], [-0.5, h-0.5], '-k', lw=2)\n",
        "\n",
        "  \n",
        "  def get_obs(self):\n",
        "    y, x = self._state\n",
        "    return y*self._layout.shape[1] + x\n",
        "  \n",
        "  def int_to_state(self, int_obs):\n",
        "    x = int_obs % self._layout.shape[1]\n",
        "    y = int_obs // self._layout.shape[1]\n",
        "    return y, x\n",
        "\n",
        "  def step(self, action):\n",
        "    y, x = self._state\n",
        "\n",
        "    if action == 0:  # up\n",
        "      new_state = (y - 1, x)\n",
        "    elif action == 1:  # right\n",
        "      new_state = (y, x + 1)\n",
        "    elif action == 2:  # down\n",
        "      new_state = (y + 1, x)\n",
        "    elif action == 3:  # left\n",
        "      new_state = (y, x - 1)\n",
        "    else:\n",
        "      raise ValueError(\"Invalid action: {} is not 0, 1, 2, or 3.\".format(action))\n",
        "\n",
        "    new_y, new_x = new_state\n",
        "    if self._layout[new_y, new_x] == -1:  # wall\n",
        "      reward = self._penalty_for_walls\n",
        "      discount = self._discount\n",
        "      new_state = (y, x)\n",
        "    elif self._layout[new_y, new_x] == 0:  # empty cell\n",
        "      reward = 0.\n",
        "      discount = self._discount\n",
        "    else:  # a goal\n",
        "      reward = self._layout[new_y, new_x]\n",
        "      discount = 0.\n",
        "      new_state = self._start_state\n",
        "    \n",
        "    self._state = new_state\n",
        "    return reward, discount, self.get_obs()"
      ],
      "execution_count": 0,
      "outputs": []
    },
    {
      "metadata": {
        "id": "UXyPvOq-S2OT",
        "colab_type": "code",
        "colab": {},
        "cellView": "both"
      },
      "cell_type": "code",
      "source": [
        "#@title Alternative Environment: Gridworld (with different goal state)\n",
        "class AltGrid(Grid):\n",
        "  \n",
        "    def __init__(self, discount=0.9, penalty_for_walls=-5):\n",
        "      # -1: wall\n",
        "      # 0: empty, episode continues\n",
        "      # other: number indicates reward, episode will terminate\n",
        "      self._layout = np.array([\n",
        "        [-1, -1, -1, -1, -1, -1, -1, -1, -1, -1],\n",
        "        [-1,  0,  0,  0,  0,  0,  -1,  0,  0, -1],\n",
        "        [-1,  0,  0,  0, -1,  0,  0,  0,  0, -1],\n",
        "        [-1,  0,  0,  0, -1, -1,  0,  0,  0, -1],\n",
        "        [-1,  0,  0,  0, -1, -1,  0,  0,  0, -1],\n",
        "        [-1,  0,  0,  0,  0,  0,  0,  0,  0, -1],\n",
        "        [-1,  0,  0,  0,  0,  0,  0,  0,  0, -1],\n",
        "        [-1,  0, 10,  0,  0,  0,  0,  0,  0, -1],\n",
        "        [-1, -1, -1, -1, -1, -1, -1, -1, -1, -1]\n",
        "      ])\n",
        "      self._start_state = (2, 2)\n",
        "      self._goal_state = (2, 7)\n",
        "      self._state = self._start_state\n",
        "      self._number_of_states = np.prod(np.shape(self._layout))\n",
        "      self._discount = discount\n",
        "      self._penalty_for_walls = penalty_for_walls"
      ],
      "execution_count": 0,
      "outputs": []
    },
    {
      "metadata": {
        "id": "ZVUhh2qqwep_",
        "colab_type": "code",
        "colab": {
          "base_uri": "https://localhost:8080/",
          "height": 377
        },
        "outputId": "696d8ab0-a8d7-438a-ef5e-1f5923461dca"
      },
      "cell_type": "code",
      "source": [
        "# Visualise the two environments\n",
        "\n",
        "# Instantiate the two tabular environments\n",
        "grid = Grid()\n",
        "alt_grid = AltGrid()\n",
        "\n",
        "# Plot tabular environments\n",
        "grid.plot_grid()\n",
        "alt_grid.plot_grid()"
      ],
      "execution_count": 59,
      "outputs": [
        {
          "output_type": "display_data",
          "data": {
            "image/png": "[encoded data removed]",
            "text/plain": [
              "<matplotlib.figure.Figure at 0x7f1031a88fd0>"
            ]
          },
          "metadata": {
            "tags": []
          }
        },
        {
          "output_type": "display_data",
          "data": {
            "image/png": "[encoded data removed]",
            "text/plain": [
              "<matplotlib.figure.Figure at 0x7f1087c87ad0>"
            ]
          },
          "metadata": {
            "tags": []
          }
        }
      ]
    },
    {
      "metadata": {
        "id": "rbEydMqDKxZr",
        "colab_type": "code",
        "colab": {},
        "cellView": "both"
      },
      "cell_type": "code",
      "source": [
        "#@title Policies\n",
        "\n",
        "# uniformly random policy\n",
        "def random_policy(q):\n",
        "  return np.random.randint(4)\n",
        "\n",
        "# epilson-greedy policy\n",
        "def epsilon_greedy(q_values, epsilon=0.1):\n",
        "  if epsilon < np.random.random():\n",
        "    return np.argmax(q_values)\n",
        "  else:\n",
        "    return np.random.randint(np.array(q_values).shape[-1])"
      ],
      "execution_count": 0,
      "outputs": []
    },
    {
      "metadata": {
        "id": "cOu9RZY3AkF1",
        "colab_type": "text"
      },
      "cell_type": "markdown",
      "source": [
        "## Helper functions"
      ]
    },
    {
      "metadata": {
        "id": "6EttQGJ1n5Zn",
        "colab_type": "code",
        "colab": {},
        "cellView": "both"
      },
      "cell_type": "code",
      "source": [
        "#@title Helper functions for visualisation\n",
        "\n",
        "map_from_action_to_subplot = lambda a: (2, 6, 8, 4)[a]\n",
        "map_from_action_to_name = lambda a: (\"up\", \"right\", \"down\", \"left\")[a]\n",
        "\n",
        "def plot_values(values, colormap='pink', vmin=-1, vmax=10):\n",
        "  plt.imshow(values, interpolation=\"nearest\", cmap=colormap, vmin=vmin, vmax=vmax)\n",
        "  plt.yticks([])\n",
        "  plt.xticks([])\n",
        "  plt.colorbar(ticks=[vmin, vmax])\n",
        "\n",
        "def plot_state_value(action_values):\n",
        "  q = action_values\n",
        "  fig = plt.figure(figsize=(4, 4))\n",
        "  vmin = np.min(action_values)\n",
        "  vmax = np.max(action_values)\n",
        "  v = 0.9 * np.max(q, axis=-1) + 0.1 * np.mean(q, axis=-1)\n",
        "  plot_values(v, colormap='summer', vmin=vmin, vmax=vmax)\n",
        "  plt.title(\"$v(s)$\")\n",
        "\n",
        "def plot_action_values(action_values):\n",
        "  q = action_values\n",
        "  fig = plt.figure(figsize=(8, 8))\n",
        "  fig.subplots_adjust(wspace=0.3, hspace=0.3)\n",
        "  vmin = np.min(action_values)\n",
        "  vmax = np.max(action_values)\n",
        "  dif = vmax - vmin\n",
        "  for a in [0, 1, 2, 3]:\n",
        "    plt.subplot(3, 3, map_from_action_to_subplot(a))\n",
        "    \n",
        "    plot_values(q[..., a], vmin=vmin - 0.05*dif, vmax=vmax + 0.05*dif)\n",
        "    action_name = map_from_action_to_name(a)\n",
        "    plt.title(r\"$q(s, \\mathrm{\" + action_name + r\"})$\")\n",
        "    \n",
        "  plt.subplot(3, 3, 5)\n",
        "  v = 0.9 * np.max(q, axis=-1) + 0.1 * np.mean(q, axis=-1)\n",
        "  plot_values(v, colormap='summer', vmin=vmin, vmax=vmax)\n",
        "  plt.title(\"$v(s)$\")\n",
        "      \n",
        "  \n",
        "def smooth(x, window=10):\n",
        "  return x[:window*(len(x)//window)].reshape(len(x)//window, window).mean(axis=1)\n",
        "  \n",
        "\n",
        "def plot_stats(stats, window=10):\n",
        "  plt.figure(figsize=(16,4))\n",
        "  plt.subplot(121)\n",
        "  xline = range(0, len(stats.episode_lengths), window)\n",
        "  plt.plot(xline, smooth(stats.episode_lengths, window=window))\n",
        "  plt.ylabel('Episode Length')\n",
        "  plt.xlabel('Episode Count')\n",
        "  plt.subplot(122)\n",
        "  plt.plot(xline, smooth(stats.episode_rewards, window=window))\n",
        "  plt.ylabel('Episode Return')\n",
        "  plt.xlabel('Episode Count')"
      ],
      "execution_count": 0,
      "outputs": []
    },
    {
      "metadata": {
        "id": "U86SLdA25GAY",
        "colab_type": "code",
        "colab": {}
      },
      "cell_type": "code",
      "source": [
        "#@title [IMPORTANT] Running the experiments\n",
        "# 1) Interact with the environment\n",
        "# 2) Agent gets observation, rewards, and discount \n",
        "# from env. and produces the next action\n",
        "def run_experiment(env, agent, number_of_steps):\n",
        "    mean_reward = 0.\n",
        "    try:\n",
        "      action = agent.initial_action()\n",
        "    except AttributeError:\n",
        "      action = 0\n",
        "      \n",
        "    # Interaction wih the MDP\n",
        "    for i in range(number_of_steps):\n",
        "      reward, discount, next_state = env.step(action)\n",
        "      action = agent.step(reward, discount, next_state)\n",
        "      mean_reward += (reward - mean_reward)/(i + 1.)\n",
        "\n",
        "    return mean_reward"
      ],
      "execution_count": 0,
      "outputs": []
    },
    {
      "metadata": {
        "id": "aWmvMHR5gM6N",
        "colab_type": "code",
        "colab": {},
        "cellView": "both"
      },
      "cell_type": "code",
      "source": [
        "#@title Helper functions for running experiments\n",
        "def plot_policy(grid, policy):\n",
        "  action_names = [r\"$\\uparrow$\",r\"$\\rightarrow$\", r\"$\\downarrow$\", r\"$\\leftarrow$\"]\n",
        "  grid.plot_grid()\n",
        "  plt.hold('on')\n",
        "  plt.title('Policy Visualization')\n",
        "  for i in range(9):\n",
        "    for j in range(10):\n",
        "      action_name = action_names[policy[i,j]]\n",
        "      plt.text(j, i, action_name, ha='center', va='center')\n",
        "\n",
        "def plot_greedy_policy(grid, q):\n",
        "  action_names = [r\"$\\uparrow$\",r\"$\\rightarrow$\", r\"$\\downarrow$\", r\"$\\leftarrow$\"]\n",
        "  greedy_actions = np.argmax(q, axis=2)\n",
        "  grid.plot_grid()\n",
        "  plt.hold('on')\n",
        "  plt.title('Greedy Policy')\n",
        "  for i in range(9):\n",
        "    for j in range(10):\n",
        "      action_name = action_names[greedy_actions[i,j]]\n",
        "      plt.text(j, i, action_name, ha='center', va='center')"
      ],
      "execution_count": 0,
      "outputs": []
    },
    {
      "metadata": {
        "id": "fzpb_dGVjT0O",
        "colab_type": "text"
      },
      "cell_type": "markdown",
      "source": [
        "# RL Lab 1: Tabular Agents\n",
        "\n",
        "Each agent should implement a step function:\n",
        "\n",
        "### `__init__(self, number_of_actions, number_of_states, initial_observation)`:\n",
        "The constructor will provide the agent the number of actions, number of states, and the initial observation. You can get the initial observation by first instatiating an environment, using `grid = Grid()`, and then calling `grid.get_obs()`.\n",
        "\n",
        "All agents should be in pure Python - so you cannot use TensorFlow to, e.g., compute gradients.  Using `numpy` is fine.\n",
        "\n",
        "### `step(self, reward, discount, next_observation, ...)`:\n",
        "where `...` indicates there could be other inputs (discussed below).  The step should update the internal values, and return a new action to take.\n",
        "\n",
        "When the discount is zero ($\\text{discount} = \\gamma = 0$), then the `next_observation` will be the initial observation of the next episode.  One shouldn't bootstrap on the value of this state, which can simply be guaranteed when using \"$\\gamma \\cdot v(\\text{next_observation})$\" (for whatever definition of $v$ is appropriate) in the update, because $\\gamma = 0$.  So, the end of an episode can be seamlessly handled with the same step function.\n",
        "\n",
        "### `q_values()`:\n",
        "\n",
        "Tabular agents implement a function `q_values()` returning a matrix of Q values of shape: (`number_of_states`, `number_of_actions`)\n",
        "\n",
        "### `q_values(state)`:\n",
        "\n",
        "Agents with Linear function approximation implement a method `q_values(state)` returning an array of Q values of shape: (`number_of_actions`)\n",
        "\n",
        "\n",
        "### A note on the initial action\n",
        "Normally, you would also have to implement a method that gives the initial action, based on the initial state.  "
      ]
    },
    {
      "metadata": {
        "id": "B8oKd0oyvNcH",
        "colab_type": "text"
      },
      "cell_type": "markdown",
      "source": [
        "\n",
        "## 1.0: Overview\n",
        "\n",
        "We are going to implement:\n",
        "- Prediction problem: Policy Evaluation\n",
        "- Towards control: Greedy Improvement \n",
        "- Online Tabular SARSA Agent\n",
        "- Online Tabular Q-learning Agent\n",
        "- Tabular Experience Replay Q-learning Agent\n",
        "\n",
        "\n",
        "\n",
        "\n",
        "\n"
      ]
    },
    {
      "metadata": {
        "id": "ZP2NIjmM1wGL",
        "colab_type": "text"
      },
      "cell_type": "markdown",
      "source": [
        "\n",
        "## 1.1: Policy evaluation and Greedy Improvement\n",
        "\n",
        "\n",
        "\n",
        "\n",
        "\n",
        "\n",
        "\n"
      ]
    },
    {
      "metadata": {
        "id": "5XEP4mf4Jx70",
        "colab_type": "text"
      },
      "cell_type": "markdown",
      "source": [
        "The purpose here is to evaluate a given policy $\\pi$ -- compute the value function associated with following/employing this policy in a given MDP.\n",
        "\n",
        "$$ Q^{\\pi}(S,A) = \\mathbb{E}_{\\tau \\sim P^{\\pi}} [\\sum_t \\gamma^t R_t| s_0=s,a=a_0]$$\n",
        "\n",
        "where $\\tau = \\{s_0, a_0, r_0, s_1, a_1, r_1, \\cdots \\}$\n",
        "\n",
        "\n",
        "Algorithm:\n",
        "\n",
        "**Initialize** $Q(s, a)$ for all s ∈ $\\mathcal{S}$ and a ∈ $\\mathcal{A}(s)$\n",
        "\n",
        "**Loop forever**:\n",
        "\n",
        "1. $S \\gets{}$current (nonterminal) state\n",
        " \n",
        "2. $A \\gets{} \\text{behaviour_policy}(S)$\n",
        " \n",
        "3. Take action $A$; observe resulting reward $R$, discount $\\gamma$, and state, $S'$\n",
        "\n",
        "4. $Q(S, A) \\gets Q(S, A) + \\alpha (R + \\gamma Q(S', \\pi(S')) − Q(S, A))$"
      ]
    },
    {
      "metadata": {
        "id": "nORJvcHML9os",
        "colab_type": "code",
        "colab": {}
      },
      "cell_type": "code",
      "source": [
        "# uniformly random policy\n",
        "def random_policy(q):\n",
        "  return np.random.randint(4)\n",
        "\n",
        "def greedy_policy(q):\n",
        "  return np.argmax(q)"
      ],
      "execution_count": 0,
      "outputs": []
    },
    {
      "metadata": {
        "id": "_IWIHIvxyC-H",
        "colab_type": "code",
        "colab": {}
      },
      "cell_type": "code",
      "source": [
        "#@title Exercise: Implement Policy Evaluation Agent\n",
        "class PolicyEval_AGENT(object):\n",
        "\n",
        "  def __init__(\n",
        "      self, number_of_states, number_of_actions, initial_state, evaluated_policy, \n",
        "      behaviour_policy=random_policy, step_size=0.1):\n",
        "    self._action = 0\n",
        "    self._state = initial_state\n",
        "    self._number_of_states = number_of_states\n",
        "    self._number_of_actions = number_of_actions\n",
        "    self._step_size = step_size\n",
        "    self._behaviour_policy = behaviour_policy\n",
        "    self._evaluated_policy = evaluated_policy\n",
        "    \n",
        "    # ============ YOUR CODE HERE =============\n",
        "    # initialize your q-values (this is a table of state and action pairs\n",
        "    # Note: this can be random, but the code was tested w/ zero-initialization \n",
        "    self._q = np.zeros((self._number_of_states, self._number_of_actions))\n",
        "    \n",
        "  @property\n",
        "  def q_values(self):\n",
        "    return self._q\n",
        "\n",
        "  def step(self, reward, discount, next_state):\n",
        "    s = self._state\n",
        "    a = self._action\n",
        "    r = reward\n",
        "    g = discount\n",
        "    next_s = next_state\n",
        "    \n",
        "    # ============ YOUR CODE HERE =============\n",
        "    # Q-value table update\n",
        "    next_a = self._evaluated_policy(self._q[next_s])\n",
        "    td =  r + g * self._q[next_s, next_a] - self._q[s][a]\n",
        "    self._q[s, a] = self._q[s, a] + self._step_size * td\n",
        "  \n",
        "    # Get the action to send to execute in the environment and return it\n",
        "    self._action = self._behaviour_policy(self._q[next_s])\n",
        "    self._state = next_s\n",
        "    \n",
        "    return self._action\n",
        "    "
      ],
      "execution_count": 0,
      "outputs": []
    },
    {
      "metadata": {
        "id": "TCPr9KzBtFJ3",
        "colab_type": "text"
      },
      "cell_type": "markdown",
      "source": [
        "**Task 1**: Run the policy evaluation agent, evaluating the uniformly randon policy  on the AltGrid() environment for $\\texttt{num_steps} = 1e3, 1e5$. \n",
        "\n",
        "Visualise the resulting value functions $Q(s,a)$. Plotting function is provided for you and it takes in a table of q-values"
      ]
    },
    {
      "metadata": {
        "id": "mCWq1yKWp76Y",
        "colab_type": "code",
        "colab": {
          "base_uri": "https://localhost:8080/",
          "height": 758
        },
        "cellView": "both",
        "outputId": "7a2fe640-a6a9-497e-8c74-536935228f5a"
      },
      "cell_type": "code",
      "source": [
        "num_steps = int(1e5) # @param\n",
        "\n",
        "# environment\n",
        "grid = AltGrid()\n",
        "\n",
        "# agent \n",
        "agent = PolicyEval_AGENT(\n",
        "    number_of_states=grid._layout.size, \n",
        "    number_of_actions=4, \n",
        "    initial_state=grid.get_obs(),\n",
        "    evaluated_policy=random_policy,\n",
        "    behaviour_policy=random_policy,\n",
        "    step_size=0.1)\n",
        "\n",
        "# run experiment and get the value functions from agent\n",
        "run_experiment(grid, agent, num_steps)\n",
        "\n",
        "# get the q-values\n",
        "q = agent.q_values.reshape(grid._layout.shape + (4,))\n",
        "\n",
        "# visualize value functions\n",
        "print('AFTER {} STEPS ...'.format(num_steps))\n",
        "plot_action_values(q)\n",
        "\n",
        "plot_greedy_policy(grid, q)"
      ],
      "execution_count": 66,
      "outputs": [
        {
          "output_type": "stream",
          "text": [
            "AFTER 100000 STEPS ...\n"
          ],
          "name": "stdout"
        },
        {
          "output_type": "stream",
          "text": [
            "/usr/local/lib/python2.7/dist-packages/ipykernel_launcher.py:15: MatplotlibDeprecationWarning: pyplot.hold is deprecated.\n",
            "    Future behavior will be consistent with the long-time default:\n",
            "    plot commands add elements without first clearing the\n",
            "    Axes and/or Figure.\n",
            "  from ipykernel import kernelapp as app\n"
          ],
          "name": "stderr"
        },
        {
          "output_type": "display_data",
          "data": {
            "image/png": "[encoded data removed]",
            "text/plain": [
              "<matplotlib.figure.Figure at 0x7f1087c87d50>"
            ]
          },
          "metadata": {
            "tags": []
          }
        },
        {
          "output_type": "display_data",
          "data": {
            "image/png": "[encoded data removed]",
            "text/plain": [
              "<matplotlib.figure.Figure at 0x7f10385041d0>"
            ]
          },
          "metadata": {
            "tags": []
          }
        }
      ]
    },
    {
      "metadata": {
        "id": "WN-KBoc2w9Na",
        "colab_type": "text"
      },
      "cell_type": "markdown",
      "source": [
        "**Task 2: [Greedy Policy Improvement]** Compute and Visualise the greedy policy based on the above evaluation, at the end of the training process for $\\texttt{num_steps} = 1e5$.\n",
        "\n",
        "\n",
        "$$ \\pi_{greedy} (a|s) = \\arg\\max_a q^{\\mu}(s,a)$$\n",
        "\n",
        "\n",
        "**Q: ** What do you observe? (Remember that we are evaluating the uniformly random policy)"
      ]
    },
    {
      "metadata": {
        "id": "_RbYQ2xmMBiI",
        "colab_type": "code",
        "colab": {}
      },
      "cell_type": "code",
      "source": [
        "# @title Exercise: Implement epilson-greedy policy\n",
        "# Input: Q(s,:), epsilon\n",
        "# Output: Sampled action based on epsilon-Greedy(Q(s,:))\n",
        "# epilson-greedy policy\n",
        "def epsilon_greedy(q_values, epsilon=0.1):\n",
        "  if epsilon < np.random.random():\n",
        "    return np.argmax(q_values)\n",
        "  else:\n",
        "    return np.random.randint(np.array(q_values).shape[-1])"
      ],
      "execution_count": 0,
      "outputs": []
    },
    {
      "metadata": {
        "id": "q5XBEXuqufcy",
        "colab_type": "code",
        "colab": {
          "base_uri": "https://localhost:8080/",
          "height": 282
        },
        "outputId": "88cdc67d-42a2-47e7-f8dd-9bb164014053"
      },
      "cell_type": "code",
      "source": [
        "# Visualize the greedy policy (whatever works for you, \n",
        "# but you should be able to see what the agent would do\n",
        "# at each step/state)  \n",
        "\n",
        "pi = np.zeros((9,10), dtype=np.int32)\n",
        "for i in range(9):\n",
        "  for j in range(10):\n",
        "    pi[i, j] = epsilon_greedy(q[i, j], epsilon=0.)\n",
        "    \n",
        "plot_policy(grid, pi)"
      ],
      "execution_count": 68,
      "outputs": [
        {
          "output_type": "stream",
          "text": [
            "/usr/local/lib/python2.7/dist-packages/ipykernel_launcher.py:4: MatplotlibDeprecationWarning: pyplot.hold is deprecated.\n",
            "    Future behavior will be consistent with the long-time default:\n",
            "    plot commands add elements without first clearing the\n",
            "    Axes and/or Figure.\n",
            "  after removing the cwd from sys.path.\n"
          ],
          "name": "stderr"
        },
        {
          "output_type": "display_data",
          "data": {
            "image/png": "[encoded data removed]",
            "text/plain": [
              "<matplotlib.figure.Figure at 0x7f10384e3fd0>"
            ]
          },
          "metadata": {
            "tags": []
          }
        }
      ]
    },
    {
      "metadata": {
        "id": "_hLuA4e_zaiW",
        "colab_type": "text"
      },
      "cell_type": "markdown",
      "source": [
        "**Task 3**: Re-run the same experiment: policy evaluation agent on the Grid() environment for $\\texttt{num_steps} = 1e5$\n",
        "and visualise the resulting value functions and the greedy policy on top of these values at the end of training.\n",
        "\n",
        "**Q: ** What do you observe? \n",
        "- How does this policy compare with the optimal one?\n",
        "- Try running the training process longer -- what do you observe?"
      ]
    },
    {
      "metadata": {
        "id": "GZS4CfLtzaiX",
        "colab_type": "code",
        "colab": {
          "base_uri": "https://localhost:8080/",
          "height": 476
        },
        "outputId": "f5cd72fb-d67e-427a-b66f-3556cd27c85e"
      },
      "cell_type": "code",
      "source": [
        "num_steps = int(1e6) # @param\n",
        "\n",
        "grid = Grid()\n",
        "\n",
        "agent = PolicyEval_AGENT(\n",
        "    number_of_states=grid._layout.size, \n",
        "    number_of_actions=4, \n",
        "    initial_state=grid.get_obs(),\n",
        "    evaluated_policy=random_policy,\n",
        "    behaviour_policy=random_policy,\n",
        "    step_size=0.1)\n",
        "\n",
        "# run experiment and get the value functions from agent\n",
        "run_experiment(grid, agent, num_steps)\n",
        "q = agent.q_values.reshape(grid._layout.shape + (4,))\n",
        "\n",
        "# visualise value functions\n",
        "plot_action_values(q)"
      ],
      "execution_count": 69,
      "outputs": [
        {
          "output_type": "display_data",
          "data": {
            "image/png": "[encoded data removed]",
            "text/plain": [
              "<matplotlib.figure.Figure at 0x7f1032f0b5d0>"
            ]
          },
          "metadata": {
            "tags": []
          }
        }
      ]
    },
    {
      "metadata": {
        "id": "i1cC9EZJzaia",
        "colab_type": "code",
        "colab": {
          "base_uri": "https://localhost:8080/",
          "height": 282
        },
        "outputId": "15d38336-22e4-457e-a576-a2cdbcb3d473"
      },
      "cell_type": "code",
      "source": [
        "# visualise the greedy policy\n",
        "plot_greedy_policy(grid, q)"
      ],
      "execution_count": 70,
      "outputs": [
        {
          "output_type": "stream",
          "text": [
            "/usr/local/lib/python2.7/dist-packages/ipykernel_launcher.py:15: MatplotlibDeprecationWarning: pyplot.hold is deprecated.\n",
            "    Future behavior will be consistent with the long-time default:\n",
            "    plot commands add elements without first clearing the\n",
            "    Axes and/or Figure.\n",
            "  from ipykernel import kernelapp as app\n"
          ],
          "name": "stderr"
        },
        {
          "output_type": "display_data",
          "data": {
            "image/png": "[encoded data removed]",
            "text/plain": [
              "<matplotlib.figure.Figure at 0x7f1032f164d0>"
            ]
          },
          "metadata": {
            "tags": []
          }
        }
      ]
    },
    {
      "metadata": {
        "id": "dbODeOkjyUEm",
        "colab_type": "text"
      },
      "cell_type": "markdown",
      "source": [
        "## 1.2 On-policy control: SARSA Agent\n",
        "In the following we are going to be concern with the control problem -- inferring the optimal value/policy that will 'solve' the MDP. The first algorithm we are going to be looking at is SARSA. \n",
        "\n",
        "Note: This is an **on-policy algoritm** -- i.e: the data collection is done on-policy.\n",
        "\n",
        "\n",
        "**Initialize** $Q(s, a)$ for all s ∈ S and a ∈ A(s)\n",
        "\n",
        "**Loop forever**:\n",
        "\n",
        "1. $S \\gets{}$current (nonterminal) state\n",
        " \n",
        "2. $A \\gets{} \\text{current_policy}(S)$\n",
        " \n",
        "3. Take action $A$; observe resultant reward $R$, discount $\\gamma$, and state, $S'$\n",
        "\n",
        "4. $Q(S, A) \\gets Q(S, A) + \\alpha (R + \\gamma Q(S', A') − Q(S, A))$"
      ]
    },
    {
      "metadata": {
        "id": "2g1cXTvXjJ7d",
        "colab_type": "code",
        "colab": {}
      },
      "cell_type": "code",
      "source": [
        "#@title Exercise: Implement SARSA Agent\n",
        "class SARSA_AGENT(object):\n",
        "\n",
        "  def __init__(\n",
        "      self, number_of_states, number_of_actions, initial_state, \n",
        "      behaviour_policy, num_offline_updates=0, step_size=0.1):\n",
        "    self._q = np.zeros((number_of_states, number_of_actions))\n",
        "    self._state = initial_state\n",
        "    self._number_of_states = number_of_states\n",
        "    self._number_of_actions = number_of_actions\n",
        "    self._step_size = step_size\n",
        "    self._behaviour_policy = behaviour_policy\n",
        "    self._action = 0\n",
        "    self._replay_buffer = []\n",
        "    \n",
        "  @property\n",
        "  def q_values(self):\n",
        "    return self._q\n",
        "\n",
        "  def step(self, reward, discount, next_state):\n",
        "    s = self._state\n",
        "    a = self._action\n",
        "    r = reward\n",
        "    g = discount\n",
        "    next_s = next_state\n",
        "    \n",
        "    # ============ YOUR CODE HERE =============\n",
        "    # Q-value table update\n",
        "    td_error =  r + g * self._q[next_s, next_a] - self._q[s][a]\n",
        "    self._q[s, a] = self._q[s, a] + self._step_size * td_error\n",
        "\n",
        "    next_a = behavior_policy(self._q[next_s])\n",
        "    \n",
        "    # Get the action to send to execute in the environment and return it\n",
        "    self._action = self._behaviour_policy(self._q[next_state])\n",
        "    self._state = next_state\n",
        "    return self._action"
      ],
      "execution_count": 0,
      "outputs": []
    },
    {
      "metadata": {
        "id": "KDjmJOD161Hx",
        "colab_type": "text"
      },
      "cell_type": "markdown",
      "source": [
        "**Task**: Run the SARSA agent with different levels of exploration. \n",
        "\n",
        "- Moderate exploration: $\\texttt{epsilon} = 0.1$. \n",
        "\n",
        "- Very exploratory strategy: $\\texttt{epsilon} = 0.5, 1.0$.\n",
        "\n",
        "**Q**: Which do you expect, without running the experiment, to do better?  \n",
        "\n",
        " **Run multiple times**: What do you observe? ($\\texttt{epsilon} = 0.1$)\n",
        "\n",
        "\n"
      ]
    },
    {
      "metadata": {
        "id": "qRHL8d6Q5ua5",
        "colab_type": "code",
        "colab": {
          "base_uri": "https://localhost:8080/",
          "height": 758
        },
        "outputId": "70a6611c-6004-4e36-e8ca-691b9229b229"
      },
      "cell_type": "code",
      "source": [
        "epsilon = 1 #@param\n",
        "num_steps = int(1e5) #@param\n",
        "\n",
        "grid = Grid(discount=0.9, penalty_for_walls=-1.)\n",
        "\n",
        "behavior_policy = lambda qval: epsilon_greedy(qval, epsilon=epsilon)\n",
        "agent = SARSA_AGENT(\n",
        "    number_of_states=grid._layout.size, \n",
        "    number_of_actions=4, \n",
        "    initial_state=grid.get_obs(),\n",
        "    behaviour_policy=behavior_policy,\n",
        "    step_size=0.1)\n",
        "\n",
        "# run experiment and get the value functions from agent\n",
        "run_experiment(grid, agent, num_steps)\n",
        "q = agent.q_values.reshape(grid._layout.shape + (4,))\n",
        "\n",
        "# visualize value functions\n",
        "print('AFTER {} STEPS ...'.format(num_steps))\n",
        "plot_action_values(q)\n",
        "\n",
        "# visualise the greedy policy\n",
        "plot_greedy_policy(grid, q)"
      ],
      "execution_count": 72,
      "outputs": [
        {
          "output_type": "stream",
          "text": [
            "AFTER 100000 STEPS ...\n"
          ],
          "name": "stdout"
        },
        {
          "output_type": "stream",
          "text": [
            "/usr/local/lib/python2.7/dist-packages/ipykernel_launcher.py:15: MatplotlibDeprecationWarning: pyplot.hold is deprecated.\n",
            "    Future behavior will be consistent with the long-time default:\n",
            "    plot commands add elements without first clearing the\n",
            "    Axes and/or Figure.\n",
            "  from ipykernel import kernelapp as app\n"
          ],
          "name": "stderr"
        },
        {
          "output_type": "display_data",
          "data": {
            "image/png": "[encoded data removed]",
            "text/plain": [
              "<matplotlib.figure.Figure at 0x7f1032f0b610>"
            ]
          },
          "metadata": {
            "tags": []
          }
        },
        {
          "output_type": "display_data",
          "data": {
            "image/png": "[encoded data removed]",
            "text/plain": [
              "<matplotlib.figure.Figure at 0x7f1031b1cc10>"
            ]
          },
          "metadata": {
            "tags": []
          }
        }
      ]
    },
    {
      "metadata": {
        "id": "WxjNg2_O-Dct",
        "colab_type": "text"
      },
      "cell_type": "markdown",
      "source": [
        "## 1.2 Off-policy control: Q-learning Agent\n",
        "\n",
        "Reminder: Q-learning is a very powerful and general algorithm, that enable control (figuring out the optimal policy/value function) both on and off-policy.\n",
        "\n",
        "**Initialize** $Q(s, a)$ for all s ∈ S and a ∈ A(s)\n",
        "\n",
        "**Loop forever**:\n",
        "\n",
        "1. $S \\gets{}$current (nonterminal) state\n",
        " \n",
        "2. $A \\gets{} \\text{behaviour_policy}(S)$\n",
        " \n",
        "3. Take action $A$; observe resultant reward $R$, discount $\\gamma$, and state, $S'$\n",
        "\n",
        "4. $Q(S, A) \\gets Q(S, A) + \\alpha (R + \\gamma \\max_a Q(S', a) − Q(S, A))$"
      ]
    },
    {
      "metadata": {
        "id": "D9MR0wQ-jS_C",
        "colab_type": "code",
        "colab": {}
      },
      "cell_type": "code",
      "source": [
        "#@title Exercise: Implement Q-learning Agent \n",
        "class Qlearning_AGENT(object):\n",
        "\n",
        "  def __init__(\n",
        "      self, number_of_states, number_of_actions, initial_state, \n",
        "      behaviour_policy, num_offline_updates=0, step_size=0.1):\n",
        "    self._q = np.zeros((number_of_states, number_of_actions))\n",
        "    self._state = initial_state\n",
        "    self._action = 0\n",
        "    self._number_of_states = number_of_states\n",
        "    self._number_of_actions = number_of_actions\n",
        "    self._step_size = step_size\n",
        "    self._behaviour_policy = behaviour_policy\n",
        "#     pass\n",
        "    \n",
        "  @property\n",
        "  def q_values(self):\n",
        "    return self._q\n",
        "\n",
        "  def step(self, reward, discount, next_state):\n",
        "    s = self._state\n",
        "    a = self._action\n",
        "    r = reward\n",
        "    g = discount\n",
        "    next_s = next_state\n",
        "    \n",
        "    # ============ YOUR CODE HERE =============\n",
        "    # Q-value table update\n",
        "    next_a = np.argmax(self._q[next_s])\n",
        "    td =  r + g * self._q[next_s, next_a] - self._q[s][a]\n",
        "    self._q[s, a] = self._q[s, a] + self._step_size * td\n",
        "    \n",
        "    # Get the action to send to execute in the environment and return it\n",
        "    self._state = next_state\n",
        "    self._action = self._behaviour_policy(self._q[next_state])\n",
        "    \n",
        "    return self._action"
      ],
      "execution_count": 0,
      "outputs": []
    },
    {
      "metadata": {
        "id": "8cqpXmZta4l-",
        "colab_type": "text"
      },
      "cell_type": "markdown",
      "source": [
        "### Task 1: Run your Q-learning agent on the below environment for 1e5 number of steps\n",
        "Keep the rest, to the default values, for this first step. I'll get to experiment with this later."
      ]
    },
    {
      "metadata": {
        "id": "kgtCWNNcZJwW",
        "colab_type": "code",
        "colab": {}
      },
      "cell_type": "code",
      "source": [
        "# enviroment\n",
        "grid = Grid(discount=0.9, penalty_for_walls=-1.)"
      ],
      "execution_count": 0,
      "outputs": []
    },
    {
      "metadata": {
        "id": "hduGg4l19acj",
        "colab_type": "code",
        "colab": {
          "base_uri": "https://localhost:8080/",
          "height": 758
        },
        "outputId": "fdbc9bd1-4650-4ada-fc11-e07f297a9dd0"
      },
      "cell_type": "code",
      "source": [
        "epsilon = 0.1 #@param\n",
        "num_steps = int(1e5) #@param\n",
        "\n",
        "# behavior policy\n",
        "behavior_policy = lambda qval: epsilon_greedy(qval, epsilon=epsilon)\n",
        "\n",
        "# agent\n",
        "agent = Qlearning_AGENT(\n",
        "    number_of_states=grid._layout.size, \n",
        "    number_of_actions=4, \n",
        "    initial_state=grid.get_obs(),\n",
        "    behaviour_policy=behavior_policy,\n",
        "    step_size=0.1)\n",
        "\n",
        "# run experiment and get the value functions from agent\n",
        "run_experiment(grid, agent, num_steps)\n",
        "q = agent.q_values.reshape(grid._layout.shape + (4,))\n",
        "\n",
        "# visualise value functions\n",
        "print('AFTER {} STEPS ...'.format(num_steps))\n",
        "plot_action_values(q)\n",
        "\n",
        "# visualise the greedy policy\n",
        "plot_greedy_policy(grid, q)"
      ],
      "execution_count": 75,
      "outputs": [
        {
          "output_type": "stream",
          "text": [
            "AFTER 100000 STEPS ...\n"
          ],
          "name": "stdout"
        },
        {
          "output_type": "stream",
          "text": [
            "/usr/local/lib/python2.7/dist-packages/ipykernel_launcher.py:15: MatplotlibDeprecationWarning: pyplot.hold is deprecated.\n",
            "    Future behavior will be consistent with the long-time default:\n",
            "    plot commands add elements without first clearing the\n",
            "    Axes and/or Figure.\n",
            "  from ipykernel import kernelapp as app\n"
          ],
          "name": "stderr"
        },
        {
          "output_type": "display_data",
          "data": {
            "image/png": "[encoded data removed]",
            "text/plain": [
              "<matplotlib.figure.Figure at 0x7f1032f0b690>"
            ]
          },
          "metadata": {
            "tags": []
          }
        },
        {
          "output_type": "display_data",
          "data": {
            "image/png": "[encoded data removed]",
            "text/plain": [
              "<matplotlib.figure.Figure at 0x7f103321ced0>"
            ]
          },
          "metadata": {
            "tags": []
          }
        }
      ]
    },
    {
      "metadata": {
        "id": "iJastp_kcAZC",
        "colab_type": "text"
      },
      "cell_type": "markdown",
      "source": [
        "### Task 2: Experiment with different levels of 'greediness':\n",
        "* The default was $\\epsilon=1$, what does this correspond to?\n",
        "* Try also $\\epsilon =0.1, 0.5$. What do you observe? Does the behaviour policy affect the training in any way?"
      ]
    },
    {
      "metadata": {
        "id": "omzJxb5ds0Iq",
        "colab_type": "text"
      },
      "cell_type": "markdown",
      "source": [
        "## 1.3 Experience Replay\n",
        "\n",
        " Implement an agent that uses **Experience Replay** to learn action values, at each step:\n",
        "* select actions randomly\n",
        "* accumulate all observed transitions *(s, a, r, s')* in the environment in a *replay buffer*,\n",
        "* apply an online Q-learning \n",
        "* apply multiple Q-learning updates based on transitions sampled from the *replay buffer* (in addition to the online updates).\n",
        "\n",
        "**Initialize** $Q(s, a)$ for all s ∈ S and a ∈ A(s)\n",
        "\n",
        "**Loop forever**:\n",
        "\n",
        "1. $S \\gets{}$current (nonterminal) state\n",
        " \n",
        "2. $A \\gets{} \\text{random_action}(S)$\n",
        " \n",
        "3. Take action $A$; observe resultant reward $R$, discount $\\gamma$, and state, $S'$\n",
        "\n",
        "4. $Q(S, A) \\gets Q(S, A) + \\alpha (R + \\gamma \\max_a Q(S, a) − Q(S, A))$\n",
        "\n",
        "5. $\\text{ReplayBuffer}.\\text{append_transition}(S, A, R, \\gamma, S')$\n",
        "\n",
        "6. Loop repeat n times:\n",
        "\n",
        "  1. $S, A, R, \\gamma, S' \\gets \\text{ReplayBuffer}.\\text{sample_transition}()$\n",
        "  \n",
        "  4. $Q(S, A) \\gets Q(S, A) + \\alpha (R + \\gamma \\max_a Q(S', a) − Q(S, A))$"
      ]
    },
    {
      "metadata": {
        "id": "TB9e_reb2pJX",
        "colab_type": "code",
        "colab": {}
      },
      "cell_type": "code",
      "source": [
        " class ReplayQ_AGENT(object):\n",
        "\n",
        "  def __init__(\n",
        "      self, number_of_states, number_of_actions, initial_state, \n",
        "      behaviour_policy, num_offline_updates=0, step_size=0.1):\n",
        "    self._q = np.zeros((number_of_states, number_of_actions))\n",
        "    self._state = initial_state\n",
        "    self._action = 0\n",
        "    self._number_of_states = number_of_states\n",
        "    self._number_of_actions = number_of_actions\n",
        "    self._num_offline_updates = num_offline_updates\n",
        "    self._step_size = step_size\n",
        "    self._behaviour_policy = behaviour_policy\n",
        "    \n",
        "    # initialise replay buffer\n",
        "    self._replay_buffer = []\n",
        "    \n",
        "  @property\n",
        "  def q_values(self):\n",
        "    return self._q\n",
        "\n",
        "  def step(self, reward, discount, next_state):\n",
        "    s = self._state\n",
        "    a = self._action\n",
        "    r = reward\n",
        "    g = discount\n",
        "    next_s = next_state\n",
        "    \n",
        "    # Online Q-value update\n",
        "    td_error = r + g * np.max(self._q[next_s]) - self._q[s, a]\n",
        "    self._q[s, a] += self._step_size * td_error\n",
        "    \n",
        "    # ============ YOUR CODE HERE =============\n",
        "    if self._num_offline_updates > 0:\n",
        "\n",
        "      # Store sample into replay buffer memory\n",
        "      self._replay_buffer.append((s, a, r, g, next_s))\n",
        "    \n",
        "      # ============ YOUR CODE HERE =============\n",
        "      # Q-value table update based on online sample and offline samples\n",
        "      # This update is the same as the above (Q-learning Agent) but \n",
        "      # now we are going to be using samples from the replay buffer.\n",
        "      # Note: You can COPY this from the above Q_learning Agent\n",
        "      for i in range(self._num_offline_updates):\n",
        "        transition = np.random.choice(len(self._replay_buffer))\n",
        "        s_, a_, r_, g_, next_s_ = self._replay_buffer[transition]\n",
        "        td_error_ = r_ + g_ * np.max(self._q[next_s_]) - self._q[s_, a_]\n",
        "        self._q[s_, a_] += self._step_size * td_error_\n",
        "\n",
        "      # Get the action to send to execute in the environment and return it\n",
        "      self._state = next_state\n",
        "      self._action = self._behaviour_policy(self._q[next_state])\n",
        "    \n",
        "    return self._action"
      ],
      "execution_count": 0,
      "outputs": []
    },
    {
      "metadata": {
        "id": "F5vnFSWVDU3A",
        "colab_type": "code",
        "colab": {
          "base_uri": "https://localhost:8080/",
          "height": 778
        },
        "outputId": "b8cb7c1f-0397-4c4a-be2c-e83c02ddf3d2"
      },
      "cell_type": "code",
      "source": [
        "num_offline_updates=30 #@param\n",
        "num_steps = int(1e4) #@param\n",
        "\n",
        "grid = Grid(discount=0.9, penalty_for_walls=-1.)\n",
        "\n",
        "behavior_policy = lambda qval: epsilon_greedy(qval, epsilon=epsilon)\n",
        "agent = ReplayQ_AGENT(\n",
        "    number_of_states=grid._layout.size, \n",
        "    number_of_actions=4, \n",
        "    initial_state=grid.get_obs(),\n",
        "    behaviour_policy=behavior_policy,\n",
        "    num_offline_updates=num_offline_updates, \n",
        "    step_size=0.1)\n",
        "\n",
        "# run experiment and get the value functions from agent\n",
        "run_experiment(grid, agent, num_steps)\n",
        "q = agent.q_values.reshape(grid._layout.shape + (4,))\n",
        "\n",
        "# visualize value functions\n",
        "print('AFTER {} STEPS ...'.format(num_steps))\n",
        "plot_action_values(q)\n",
        "\n",
        "# visualise the greedy policy\n",
        "plot_greedy_policy(grid, q)"
      ],
      "execution_count": 77,
      "outputs": [
        {
          "output_type": "stream",
          "text": [
            "AFTER 10000 STEPS ...\n"
          ],
          "name": "stdout"
        },
        {
          "output_type": "stream",
          "text": [
            "/usr/local/lib/python2.7/dist-packages/ipykernel_launcher.py:15: MatplotlibDeprecationWarning: pyplot.hold is deprecated.\n",
            "    Future behavior will be consistent with the long-time default:\n",
            "    plot commands add elements without first clearing the\n",
            "    Axes and/or Figure.\n",
            "  from ipykernel import kernelapp as app\n"
          ],
          "name": "stderr"
        },
        {
          "output_type": "display_data",
          "data": {
            "image/png": "[encoded data removed]",
            "text/plain": [
              "<matplotlib.figure.Figure at 0x7f1032cc4690>"
            ]
          },
          "metadata": {
            "tags": []
          }
        },
        {
          "output_type": "display_data",
          "data": {
            "image/png": "[encoded data removed]",
            "text/plain": [
              "<matplotlib.figure.Figure at 0x7f1032ce6650>"
            ]
          },
          "metadata": {
            "tags": []
          }
        }
      ]
    },
    {
      "metadata": {
        "id": "Q5AWyVs16A-x",
        "colab_type": "text"
      },
      "cell_type": "markdown",
      "source": [
        "## 1.4 Further Analysis:  Data Efficiency"
      ]
    },
    {
      "metadata": {
        "id": "JWutE_URvT7K",
        "colab_type": "text"
      },
      "cell_type": "markdown",
      "source": [
        "**Online Q-learning**\n",
        "\n",
        "* $\\text{number_of_steps}$ = $1e3$ and $\\text{num_offline_updates}$ = $0$"
      ]
    },
    {
      "metadata": {
        "id": "Iix-yw-MKS4Y",
        "colab_type": "code",
        "colab": {
          "base_uri": "https://localhost:8080/",
          "height": 761
        },
        "outputId": "1a38d3b9-1c21-4bfa-83e2-c28288653262"
      },
      "cell_type": "code",
      "source": [
        "grid = Grid()\n",
        "agent = ReplayQ_AGENT(\n",
        "  grid._layout.size, 4, grid.get_obs(),\n",
        "  random_policy, num_offline_updates=0, step_size=0.1)\n",
        "run_experiment(grid, agent, int(1e3))\n",
        "q = agent.q_values.reshape(grid._layout.shape + (4,))\n",
        "plot_action_values(q)\n",
        "# visualise the greedy policy\n",
        "plot_greedy_policy(grid, q)"
      ],
      "execution_count": 78,
      "outputs": [
        {
          "output_type": "stream",
          "text": [
            "/usr/local/lib/python2.7/dist-packages/ipykernel_launcher.py:15: MatplotlibDeprecationWarning: pyplot.hold is deprecated.\n",
            "    Future behavior will be consistent with the long-time default:\n",
            "    plot commands add elements without first clearing the\n",
            "    Axes and/or Figure.\n",
            "  from ipykernel import kernelapp as app\n"
          ],
          "name": "stderr"
        },
        {
          "output_type": "display_data",
          "data": {
            "image/png": "[encoded data removed]",
            "text/plain": [
              "<matplotlib.figure.Figure at 0x7f1032ce6890>"
            ]
          },
          "metadata": {
            "tags": []
          }
        },
        {
          "output_type": "display_data",
          "data": {
            "image/png": "[encoded data removed]",
            "text/plain": [
              "<matplotlib.figure.Figure at 0x7f1032ce6110>"
            ]
          },
          "metadata": {
            "tags": []
          }
        }
      ]
    },
    {
      "metadata": {
        "id": "KZXsXJYBgC_N",
        "colab_type": "text"
      },
      "cell_type": "markdown",
      "source": [
        "**Experience Replay**\n",
        "\n",
        "* $\\text{number_of_steps}$ = $1e3$ and $\\text{num_offline_updates}$ = $30$"
      ]
    },
    {
      "metadata": {
        "id": "ASml5uAeIl4A",
        "colab_type": "code",
        "colab": {
          "base_uri": "https://localhost:8080/",
          "height": 761
        },
        "outputId": "be1c4371-bcf4-4593-a812-bcf1dcc568e8"
      },
      "cell_type": "code",
      "source": [
        "grid = Grid()\n",
        "agent = ReplayQ_AGENT(\n",
        "  grid._layout.size, 4, grid.get_obs(),\n",
        "  random_policy, num_offline_updates=30, step_size=0.1)\n",
        "run_experiment(grid, agent, int(1e3))\n",
        "q = agent.q_values.reshape(grid._layout.shape + (4,))\n",
        "plot_action_values(q)\n",
        "# visualise the greedy policy\n",
        "plot_greedy_policy(grid, q)"
      ],
      "execution_count": 79,
      "outputs": [
        {
          "output_type": "stream",
          "text": [
            "/usr/local/lib/python2.7/dist-packages/ipykernel_launcher.py:15: MatplotlibDeprecationWarning: pyplot.hold is deprecated.\n",
            "    Future behavior will be consistent with the long-time default:\n",
            "    plot commands add elements without first clearing the\n",
            "    Axes and/or Figure.\n",
            "  from ipykernel import kernelapp as app\n"
          ],
          "name": "stderr"
        },
        {
          "output_type": "display_data",
          "data": {
            "image/png": "[encoded data removed]",
            "text/plain": [
              "<matplotlib.figure.Figure at 0x7f1030f7f690>"
            ]
          },
          "metadata": {
            "tags": []
          }
        },
        {
          "output_type": "display_data",
          "data": {
            "image/png": "[encoded data removed]",
            "text/plain": [
              "<matplotlib.figure.Figure at 0x7f1030f7f3d0>"
            ]
          },
          "metadata": {
            "tags": []
          }
        }
      ]
    },
    {
      "metadata": {
        "id": "g-YdF57kT5Tt",
        "colab_type": "text"
      },
      "cell_type": "markdown",
      "source": [
        "# RL Lab 2: REINFORCE Agent w/ FA \n",
        "\n",
        "Implement an agent that uses **REINFORCE** to learn action values, at each step:\n",
        "\n",
        "\n",
        "**Initialize** $V(s), \\pi(s,a)$ for all s ∈ S and a ∈ A(s)\n",
        "\n"
      ]
    },
    {
      "metadata": {
        "id": "CerR90UZrqyl",
        "colab_type": "code",
        "colab": {}
      },
      "cell_type": "code",
      "source": [
        "!pip install -q dm-sonnet"
      ],
      "execution_count": 0,
      "outputs": []
    },
    {
      "metadata": {
        "id": "_y53nazVQyGW",
        "colab_type": "code",
        "colab": {}
      },
      "cell_type": "code",
      "source": [
        "import sonnet as snt"
      ],
      "execution_count": 0,
      "outputs": []
    },
    {
      "metadata": {
        "id": "N8b_qEawj35Y",
        "colab_type": "text"
      },
      "cell_type": "markdown",
      "source": [
        "## 2.1 (Vanilla) REINFORCE\n",
        "\n",
        "We are still trying to solve the control problem: estimate the policy that gives us a better long term (discounted) return:\n",
        "\n",
        "$$G_t = \\sum_{k=t+1} \\gamma^{k-t-1}R_k $$\n",
        "\n",
        "Objective:\n",
        "$$J(\\theta) = \\mathbb{E}_{\\pi_{\\theta}} [G_t]$$\n",
        "\n",
        "\n",
        "Using the log-derivative trick, we can obtain the gradient of $J(\\theta)$ with respect to the policy parameters $\\theta$ as:\n",
        "\n",
        "$$\\nabla_{\\theta} J = \\mathbb{E}_{{\\pi_{\\theta}}}[\\sum_{t}\\nabla_{\\theta}\\log \\pi_{\\theta}(s_t,a_t) G_t]$$\n",
        "\n",
        "We estimate this gradient via sampling episodes in the enviroment.\n",
        "\n",
        "Reference: See REINFORCE in Chapter 13: Policy Gradient Methods in [Book](https://drive.google.com/file/d/1xeUDVGWGUUv1-ccUMAZHJLej2C7aAFWY/view)"
      ]
    },
    {
      "metadata": {
        "id": "VU1aBWr4u4tc",
        "colab_type": "text"
      },
      "cell_type": "markdown",
      "source": [
        "### 2.1.1 Build agent\n",
        "This is slipt into two part:\n",
        "* Build the Policy functional approximator\n",
        "* Build the REINFORCE Agent"
      ]
    },
    {
      "metadata": {
        "id": "_nFZqgPnne1U",
        "colab_type": "code",
        "colab": {}
      },
      "cell_type": "code",
      "source": [
        "#@title Policy Approximator\n",
        "#Define a class that build our policy approximation\n",
        "class PolicyApproximator():\n",
        "    \"\"\"\n",
        "    Policy Function approximator. \n",
        "    \"\"\"\n",
        "    \n",
        "    def __init__(self, num_actions=4, learning_rate=0.01, scope=\"policy_approximation\"):\n",
        "        with tf.variable_scope(scope):\n",
        "            # This is a function of the state V(state)\n",
        "            self.state = tf.placeholder(tf.int32, [], \"state\")\n",
        "            \n",
        "            # Embbed the state into a one-hot coding\n",
        "            state_one_hot = tf.one_hot(self.state[None, ...], int(grid._layout.size))\n",
        "            # We are evaluating the policy of a (previously) selected action\n",
        "            self.action = tf.placeholder(dtype=tf.int32, name=\"action\")\n",
        "            \n",
        "            # Return placeholder\n",
        "            self.return_s = tf.placeholder(dtype=tf.float32, name=\"return\")\n",
        "            \n",
        "            # Very simple (linear) transformation of the state to \n",
        "            # \\pi_{\\theta}(a|s) -- this is can be anything you think\n",
        "            # your solution class needs to span the intermediate sol.\n",
        "            nn_transform = snt.Linear(4,\n",
        "                                      initializers={'w': tf.zeros_initializer,\n",
        "                                                    'b': tf.zeros_initializer})\n",
        "            self.output_layer = nn_transform(state_one_hot)\n",
        "            \n",
        "            # ============ YOUR CODE HERE =============\n",
        "            # Compute pi(a=self.action|s) for a selected action\n",
        "            self.pi = tf.nn.softmax(self.output_layer)\n",
        "            actions_one_hot = tf.one_hot(self.action[None, ...], 4, dtype=tf.float32)\n",
        "            self.action_probs = tf.reduce_sum(self.pi * actions_one_hot, reduction_indices=1)\n",
        "            \n",
        "            # Define the loss\n",
        "            self.loss = -tf.reduce_mean(tf.log(self.action_probs + 1e-7) * self.return_s)\n",
        "            \n",
        "            # Define an optimizer\n",
        "            self.optimizer = tf.train.AdamOptimizer(learning_rate=learning_rate)\n",
        "            \n",
        "            # Define the training operation\n",
        "            self.train_op = self.optimizer.minimize(\n",
        "                self.loss, global_step=tf.contrib.framework.get_global_step())\n",
        "    \n",
        "    def predict(self, state, sess=None):\n",
        "      # ============ YOUR CODE HERE =============\n",
        "      sess = sess or tf.get_default_session()\n",
        "      # compute the probabilities of all actions given \n",
        "      # this state \\pi(a|s) for all a.\n",
        "      pi_s = sess.run(self.pi, feed_dict={self.state: state})\n",
        "      pi_s = pi_s[0]\n",
        "      return pi_s\n",
        "\n",
        "    def update(self, state, return_s, action, sess=None):\n",
        "      # ============ YOUR CODE HERE =============\n",
        "      sess = sess or tf.get_default_session()\n",
        "      # perform training/operation operation\n",
        "      # compute and return the loss\n",
        "      loss, _ = sess.run([self.loss, self.train_op], feed_dict={self.state: state, \n",
        "                                                               self.return_s: return_s,\n",
        "                                                               self.action: action})\n",
        "      return loss"
      ],
      "execution_count": 0,
      "outputs": []
    },
    {
      "metadata": {
        "id": "senpTa9-p3FO",
        "colab_type": "code",
        "colab": {},
        "cellView": "both"
      },
      "cell_type": "code",
      "source": [
        "#@title REINFORCE Agent \n",
        "class REINFORCE_AGENT(object):\n",
        "  \n",
        "  def __init__(\n",
        "      self, number_of_states, number_of_actions, initial_state, \n",
        "      policy_learning_rate=0.01, const_discount=1.0):\n",
        "    \n",
        "    self._policy_approximator = PolicyApproximator(num_actions=number_of_actions,\n",
        "                                                   learning_rate=policy_learning_rate)\n",
        "    self._constant_discount = const_discount \n",
        "    \n",
        "    # initial state/action\n",
        "    self._state = initial_state\n",
        "    self._action = 0\n",
        "    self.sess = tf.get_default_session()\n",
        "    \n",
        "  def step(self, state):\n",
        "    # ============ YOUR CODE HERE =============\n",
        "    # Get the action probabilities \n",
        "    action_probs = self._policy_approximator.predict(state)\n",
        "    \n",
        "    # Select you action\n",
        "    action = np.random.choice(action_probs, p=action_probs)\n",
        "    action = np.argmax(action_probs == action)\n",
        "    \n",
        "    # Update the internal variables\n",
        "    self._action = action\n",
        "    self._state = state\n",
        "    return self._action\n",
        "    \n",
        "  def update(self, episode):\n",
        "    # go over the all experience collected in this episode\n",
        "    reverse_episode = episode[::-1]\n",
        "    \n",
        "    discounted_return = 0\n",
        "    for t, transition in enumerate(reverse_episode):\n",
        "      state = transition.state\n",
        "      action = transition.action\n",
        "      reward = transition.reward\n",
        "      next_state = transition.next_state\n",
        "      discount = transition.discount\n",
        "\n",
        "      # ============ YOUR CODE HERE =============\n",
        "      # Compute the (discounted) return\n",
        "      discounted_return = reward + discount * discounted_return\n",
        "      # Update our policy estimator based on return\n",
        "      loss = self._policy_approximator.update(state, discounted_return, action)\n"
      ],
      "execution_count": 0,
      "outputs": []
    },
    {
      "metadata": {
        "id": "KL9i62GGhZno",
        "colab_type": "code",
        "colab": {}
      },
      "cell_type": "code",
      "source": [
        "def run_reinforce(env, agent, num_episodes, MAXSTEPS_PER_EPISODE=100):\n",
        "    \"\"\"\n",
        "    REINFORCE (Monte Carlo Policy Gradient) Algorithm. Optimizes the policy\n",
        "    function approximator using policy gradient.\n",
        "    \n",
        "    Args:\n",
        "        env: gridworld\n",
        "        agent: REINFORCE agent\n",
        "        num_episodes: Number of episodes to run for\n",
        "    \n",
        "    Returns:\n",
        "        An EpisodeStats object with two numpy arrays for episode_lengths and episode_rewards.\n",
        "    \"\"\"\n",
        "\n",
        "    EpStats = namedtuple(\"EpStats\", [\"episode_lengths\", \"episode_rewards\"])\n",
        "    # Keeps track of useful statistics\n",
        "    stats = EpStats(\n",
        "        episode_lengths=np.zeros(num_episodes),\n",
        "        episode_rewards=np.zeros(num_episodes))    \n",
        "    \n",
        "    Transition = namedtuple(\"Transition\", [\"state\", \"action\", \"reward\", \"next_state\", \"discount\"])\n",
        "    \n",
        "    for i_episode in range(num_episodes):\n",
        "        # Reset the environment and pick the first action\n",
        "        action = 0#agent.initial_action()\n",
        "        reward, discount, next_state = env.step(action)\n",
        "        \n",
        "        episode = []\n",
        "        \n",
        "        # One step in the environment\n",
        "        state = next_state\n",
        "        for t in range(MAXSTEPS_PER_EPISODE): \n",
        "            \n",
        "            # Take a step\n",
        "            action = agent.step(state)\n",
        "            reward, discount, next_state = env.step(action)\n",
        "            \n",
        "            # Keep track of the transition\n",
        "            episode.append(Transition(\n",
        "              state=state, action=action, reward=reward, next_state=next_state, discount=discount))\n",
        "            \n",
        "            # Update statistics\n",
        "            stats.episode_rewards[i_episode] += reward\n",
        "            stats.episode_lengths[i_episode] = t\n",
        "            \n",
        "            if ((discount == 0) | (t==99)) & (i_episode%20==0):\n",
        "                # Print out which step we're on, useful for debugging\n",
        "                print(\"Episode {}/{}: Length {} ({})\".format(\n",
        "                i_episode + 1, num_episodes, t, stats.episode_rewards[i_episode - 1]))\n",
        "\n",
        "            if discount == 0: # this signals end of the episode          \n",
        "                break\n",
        "                \n",
        "            state = next_state\n",
        "    \n",
        "        # Go through the episode and make policy updates\n",
        "        agent.update(episode)\n",
        "      \n",
        "    return stats"
      ],
      "execution_count": 0,
      "outputs": []
    },
    {
      "metadata": {
        "id": "dDAgK3pUvLuk",
        "colab_type": "text"
      },
      "cell_type": "markdown",
      "source": [
        "### 2.1.2. Run experiment\n",
        " Ready go! Let's test our agent!"
      ]
    },
    {
      "metadata": {
        "id": "Y2lyi-FZhZnr",
        "colab_type": "code",
        "colab": {}
      },
      "cell_type": "code",
      "source": [
        "# initialise an instance of the environment\n",
        "grid = Grid(discount=1.0)"
      ],
      "execution_count": 0,
      "outputs": []
    },
    {
      "metadata": {
        "id": "RZ3X6hZohZnu",
        "colab_type": "code",
        "colab": {
          "base_uri": "https://localhost:8080/",
          "height": 442
        },
        "outputId": "29d7ebf0-9304-45d2-9e26-7cfc946cd4aa"
      },
      "cell_type": "code",
      "source": [
        "tf.reset_default_graph()\n",
        "\n",
        "global_step = tf.Variable(0, name=\"global_step\", trainable=False)\n",
        "\n",
        "agent = REINFORCE_AGENT(number_of_states=grid._layout.size,\n",
        "                        number_of_actions=4, \n",
        "                        initial_state=grid.get_obs(), \n",
        "                        policy_learning_rate=0.01, \n",
        "                        const_discount=1.0)\n",
        "\n",
        "with tf.Session() as sess:\n",
        "    sess.run(tf.initialize_all_variables())\n",
        "    # Note, due to randomness in the policy the number of episodes you need to learn a good\n",
        "    # policy may vary. ~500-1000 should be okay\n",
        "    stats = run_reinforce(grid, agent, 500)"
      ],
      "execution_count": 95,
      "outputs": [
        {
          "output_type": "stream",
          "text": [
            "Episode 1/500: Length 99 (0.0)\n",
            "Episode 21/500: Length 99 (-135.0)\n",
            "Episode 41/500: Length 99 (-25.0)\n",
            "Episode 61/500: Length 99 (-10.0)\n",
            "Episode 81/500: Length 99 (-10.0)\n",
            "Episode 101/500: Length 99 (0.0)\n",
            "Episode 121/500: Length 99 (-5.0)\n",
            "Episode 141/500: Length 99 (0.0)\n",
            "Episode 161/500: Length 99 (-10.0)\n",
            "Episode 181/500: Length 6 (10.0)\n",
            "Episode 201/500: Length 6 (5.0)\n",
            "Episode 221/500: Length 8 (10.0)\n",
            "Episode 241/500: Length 25 (-10.0)\n",
            "Episode 261/500: Length 61 (5.0)\n",
            "Episode 281/500: Length 8 (10.0)\n",
            "Episode 301/500: Length 33 (-5.0)\n",
            "Episode 321/500: Length 51 (10.0)\n",
            "Episode 341/500: Length 93 (10.0)\n",
            "Episode 361/500: Length 84 (10.0)\n",
            "Episode 381/500: Length 6 (10.0)\n",
            "Episode 401/500: Length 6 (10.0)\n",
            "Episode 421/500: Length 6 (10.0)\n",
            "Episode 441/500: Length 6 (10.0)\n",
            "Episode 461/500: Length 6 (10.0)\n",
            "Episode 481/500: Length 6 (10.0)\n"
          ],
          "name": "stdout"
        }
      ]
    },
    {
      "metadata": {
        "id": "b9w_ylGcjVnZ",
        "colab_type": "code",
        "colab": {
          "base_uri": "https://localhost:8080/",
          "height": 299
        },
        "outputId": "fada261e-6fe2-4b5a-b9f5-2fc7f9bacf8d"
      },
      "cell_type": "code",
      "source": [
        "plot_stats(stats, window=10)"
      ],
      "execution_count": 96,
      "outputs": [
        {
          "output_type": "display_data",
          "data": {
            "image/png": "[encoded data removed]",
            "text/plain": [
              "<matplotlib.figure.Figure at 0x7f1032efc750>"
            ]
          },
          "metadata": {
            "tags": []
          }
        }
      ]
    },
    {
      "metadata": {
        "id": "GOxqqWyPf9E5",
        "colab_type": "text"
      },
      "cell_type": "markdown",
      "source": [
        "## 2.2 (Optional) Adding a baseline (via $V(s)$) "
      ]
    },
    {
      "metadata": {
        "id": "SfIkMhcDupVN",
        "colab_type": "text"
      },
      "cell_type": "markdown",
      "source": [
        "### 2.2.1. Build the Agent\n",
        "This is similar to the above agent, but now we have an additional problem of estimating/computing the value function $v(s)$.\n",
        "\n",
        "Your tasks will be:\n",
        "* Implement the value function approximator: prediction/update\n",
        "* Adjust the above agent to include this baseline \n",
        "(Note: make sure you remember to update both your value and policy approx.)"
      ]
    },
    {
      "metadata": {
        "id": "jTC91ChZjf34",
        "colab_type": "code",
        "colab": {}
      },
      "cell_type": "code",
      "source": [
        "#@title Value function approximator \n",
        "class ValueApproximator():\n",
        "    \"\"\"\n",
        "    Value Function approximator. \n",
        "    \"\"\"\n",
        "    \n",
        "    def __init__(self, learning_rate=0.1, scope=\"value_approximation\"):\n",
        "        with tf.variable_scope(scope):\n",
        "          \n",
        "            # This is a function of the state V(state)\n",
        "            self.state = tf.placeholder(tf.int32, [], \"state\")\n",
        "            # Embbed the state into a one-hot coding\n",
        "            state_one_hot = tf.one_hot(self.state[None, ...], int(grid._layout.size))\n",
        "            \n",
        "            # ============ YOUR CODE HERE =============\n",
        "            # Target Q-value function\n",
        "            self.target = tf.placeholder(dtype=tf.float32, name=\"target\")[None, ...]\n",
        "            \n",
        "            # Very simple (linear) transformation of the state to \n",
        "            # the value function V_{\\theta}(s) \n",
        "            self.output_layer = tf.contrib.layers.fully_connected(\n",
        "                inputs=tf.expand_dims(state_one_hot, 0),\n",
        "                num_outputs=1,\n",
        "                activation_fn=None,\n",
        "                weights_initializer=tf.zeros_initializer)\n",
        "\n",
        "            self.value_estimate = tf.squeeze(self.output_layer)\n",
        "            \n",
        "            # ============ YOUR CODE HERE =============\n",
        "            # Define the loss\n",
        "            self.loss = tf.reduce_mean(tf.square(self.value_estimate - self.target))\n",
        "            \n",
        "            # Define an optimizer\n",
        "            self.optimizer = tf.train.AdamOptimizer(learning_rate=learning_rate)\n",
        "            \n",
        "            # Define the training operation\n",
        "            self.train_op = self.optimizer.minimize(\n",
        "                self.loss, global_step=tf.contrib.framework.get_global_step())        \n",
        "    \n",
        "    def predict(self, state, sess=None):\n",
        "      sess = sess or tf.get_default_session()\n",
        "      # ============ YOUR CODE HERE =============\n",
        "      v_s = tf.sess.run(self.value_estimate, feed_dict={self.state: state})[0]\n",
        "      return v_s\n",
        "    \n",
        "    def update(self, state, target, sess=None):\n",
        "      sess = sess or tf.get_default_session()\n",
        "      # ============ YOUR CODE HERE =============\n",
        "      loss, _ = sess.run([self.loss, self.train_op], feed_dict={self.state: state, \n",
        "                                                               self.target: target})\n",
        "      return loss"
      ],
      "execution_count": 0,
      "outputs": []
    },
    {
      "metadata": {
        "id": "_gWaK0vctfoG",
        "colab_type": "code",
        "colab": {},
        "cellView": "both"
      },
      "cell_type": "code",
      "source": [
        "#@title REINFORCE with baseline via estimating V(s)\n",
        "class REINFORCE_AGENT(object):\n",
        "  \n",
        "  def __init__(\n",
        "      self, number_of_states, number_of_actions, initial_state, \n",
        "      policy_learning_rate=0.01, value_learning_rate=0.1, const_discount=1.0,\n",
        "      use_baseline=True):\n",
        "    \n",
        "    self._value_approximator  = ValueApproximator(learning_rate=value_learning_rate)\n",
        "    self._policy_approximator = PolicyApproximator(learning_rate=policy_learning_rate)\n",
        "    self._constant_discount = const_discount \n",
        "    \n",
        "    # initial state/action\n",
        "    self._state = initial_state\n",
        "    self._action = 0\n",
        "    self._use_baseline = use_baseline\n",
        "    \n",
        "  def step(self, state):\n",
        "    # ============ YOUR CODE HERE =============\n",
        "    # Note: you an COPY this from above\n",
        "    # Select the action to send to the environment\n",
        "    \n",
        "    # Get the action probabilities \n",
        "    action_probs = self._policy_approximator.predict(state)\n",
        "    \n",
        "    # Select you action\n",
        "    action = np.random.choice(action_probs, p=action_probs)\n",
        "    action = np.argmax(action_probs == action)\n",
        "    \n",
        "    # Update the internal variables\n",
        "    self._action = action\n",
        "    self._state = state\n",
        "    return self._action\n",
        "    \n",
        "  def update(self, episode):\n",
        "    reverse_episode = episode[::-1]\n",
        "    discounted_return = 0\n",
        "     \n",
        "    # go over the all experience collected in this episode\n",
        "    for t, transition in enumerate(reverse_episode):\n",
        "      # ============ YOUR CODE HERE =============\n",
        "      state = transition.state\n",
        "      action = transition.action\n",
        "      reward = transition.reward\n",
        "      next_state = transition.next_state\n",
        "      discount = transition.discount\n",
        "      \n",
        "      # Compute the discounted return\n",
        "      discounted_return = reward + discount * discounted_return \n",
        "      \n",
        "      if self._use_baseline:\n",
        "        # ============ YOUR CODE HERE =============\n",
        "        # Compute baseline/advantage\n",
        "        baseline = self._value_approximator.predict(state)\n",
        "        \n",
        "        # Compute advantage\n",
        "        advantage = discounted_return - baseline\n",
        "        \n",
        "        # Update our value estimator\n",
        "        loss_value = self._value_approximator.update(state, discounted_return)\n",
        "        \n",
        "        # Update our policy estimator\n",
        "        # self._policy_approximator.update(...)\n",
        "        loss_policy = self._policy_approximator.update(state, advantage, action)\n",
        "\n",
        "      else:\n",
        "        # Update our policy estimator based on return\n",
        "        loss_policy = self._policy_approximator.update(state, discounted_return, action)\n",
        "\n",
        "    "
      ],
      "execution_count": 0,
      "outputs": []
    },
    {
      "metadata": {
        "id": "p-9El27xN5CM",
        "colab_type": "code",
        "colab": {}
      },
      "cell_type": "code",
      "source": [
        "def run_reinforce(env, agent, num_episodes, MAXSTEPS_PER_EPISODE=100):\n",
        "    \"\"\"\n",
        "    REINFORCE (Monte Carlo Policy Gradient) Algorithm. Optimizes the policy\n",
        "    function approximator using policy gradient.\n",
        "    \n",
        "    Args:\n",
        "        env: gridworld\n",
        "        agent: REINFORCE agent\n",
        "        num_episodes: Number of episodes to run for\n",
        "    \n",
        "    Returns:\n",
        "        An EpisodeStats object with two numpy arrays for episode_lengths and episode_rewards.\n",
        "    \"\"\"\n",
        "\n",
        "    EpStats = namedtuple(\"EpStats\", [\"episode_lengths\", \"episode_rewards\"])\n",
        "    # Keeps track of useful statistics\n",
        "    stats = EpStats(\n",
        "        episode_lengths=np.zeros(num_episodes),\n",
        "        episode_rewards=np.zeros(num_episodes))    \n",
        "    \n",
        "    Transition = namedtuple(\"Transition\", [\"state\", \"action\", \"reward\", \"next_state\", \"discount\"])\n",
        "    \n",
        "    for i_episode in range(num_episodes):\n",
        "        # Reset the environment and pick the fisrst action\n",
        "        action = 0#agent.initial_action()\n",
        "        reward, discount, next_state = env.step(action)\n",
        "        \n",
        "        episode = []\n",
        "        \n",
        "        # One step in the environment\n",
        "        state = next_state\n",
        "        for t in range(MAXSTEPS_PER_EPISODE): \n",
        "            \n",
        "            # Take a step\n",
        "            action = agent.step(state)\n",
        "            reward, discount, next_state = env.step(action)\n",
        "            \n",
        "            # Keep track of the transition\n",
        "            episode.append(Transition(\n",
        "              state=state, action=action, reward=reward, next_state=next_state, discount=discount))\n",
        "            \n",
        "            # Update statistics\n",
        "            stats.episode_rewards[i_episode] += reward\n",
        "            stats.episode_lengths[i_episode] = t\n",
        "            \n",
        "            if ((discount == 0) | (t==99)) & (i_episode%20==0):\n",
        "                # Print out which step we're on, useful for debugging\n",
        "                print(\"Episode {}/{}: Length {} ({})\".format(\n",
        "                i_episode + 1, num_episodes, t, stats.episode_rewards[i_episode - 1]))\n",
        "\n",
        "            if discount == 0: # this signals end of the episode          \n",
        "                break\n",
        "                \n",
        "            state = next_state\n",
        "    \n",
        "        # Go through the episode and make policy updates\n",
        "        agent.update(episode)\n",
        "      \n",
        "    return stats"
      ],
      "execution_count": 0,
      "outputs": []
    },
    {
      "metadata": {
        "id": "k10bD7O9ujp4",
        "colab_type": "text"
      },
      "cell_type": "markdown",
      "source": [
        "### 2.2.2. Run experiment"
      ]
    },
    {
      "metadata": {
        "id": "1JXfjIJYsGzF",
        "colab_type": "code",
        "colab": {}
      },
      "cell_type": "code",
      "source": [
        "grid = Grid(discount=1.0)"
      ],
      "execution_count": 0,
      "outputs": []
    },
    {
      "metadata": {
        "id": "lsKIzTzY81_9",
        "colab_type": "code",
        "colab": {
          "base_uri": "https://localhost:8080/",
          "height": 442
        },
        "outputId": "32829bcf-aebb-42d6-e4de-4119323b88f2"
      },
      "cell_type": "code",
      "source": [
        "tf.reset_default_graph()\n",
        "\n",
        "global_step = tf.Variable(0, name=\"global_step\", trainable=False)\n",
        "\n",
        "agent = REINFORCE_AGENT(number_of_states=grid._layout.size,\n",
        "                        number_of_actions=4, \n",
        "                        initial_state=grid.get_obs(), \n",
        "                        policy_learning_rate=0.01, \n",
        "                        value_learning_rate=0.1, \n",
        "                        const_discount=1.0,\n",
        "                        use_baseline=False)\n",
        "\n",
        "with tf.Session() as sess:\n",
        "    sess.run(tf.initialize_all_variables())\n",
        "    # Note, due to randomness in the policy the number of episodes you need to learn a good\n",
        "    # policy may vary. ~2000-5000 seemed to work well for me.\n",
        "    stats = run_reinforce(grid, agent, 500)"
      ],
      "execution_count": 109,
      "outputs": [
        {
          "output_type": "stream",
          "text": [
            "Episode 1/500: Length 99 (0.0)\n",
            "Episode 21/500: Length 99 (-295.0)\n",
            "Episode 41/500: Length 99 (-35.0)\n",
            "Episode 61/500: Length 99 (-500.0)\n",
            "Episode 81/500: Length 99 (-30.0)\n",
            "Episode 101/500: Length 99 (-25.0)\n",
            "Episode 121/500: Length 11 (0.0)\n",
            "Episode 141/500: Length 11 (10.0)\n",
            "Episode 161/500: Length 91 (10.0)\n",
            "Episode 181/500: Length 8 (5.0)\n",
            "Episode 201/500: Length 18 (10.0)\n",
            "Episode 221/500: Length 9 (-30.0)\n",
            "Episode 241/500: Length 6 (10.0)\n",
            "Episode 261/500: Length 8 (10.0)\n",
            "Episode 281/500: Length 10 (5.0)\n",
            "Episode 301/500: Length 8 (10.0)\n",
            "Episode 321/500: Length 14 (10.0)\n",
            "Episode 341/500: Length 6 (10.0)\n",
            "Episode 361/500: Length 6 (10.0)\n",
            "Episode 381/500: Length 6 (10.0)\n",
            "Episode 401/500: Length 8 (10.0)\n",
            "Episode 421/500: Length 10 (10.0)\n",
            "Episode 441/500: Length 6 (10.0)\n",
            "Episode 461/500: Length 6 (10.0)\n",
            "Episode 481/500: Length 7 (10.0)\n"
          ],
          "name": "stdout"
        }
      ]
    },
    {
      "metadata": {
        "id": "ZFg1r7wlJp1H",
        "colab_type": "code",
        "colab": {
          "base_uri": "https://localhost:8080/",
          "height": 299
        },
        "outputId": "576befee-fbdd-4be9-b9e6-ca0a998ad538"
      },
      "cell_type": "code",
      "source": [
        "plot_stats(stats, window=10)"
      ],
      "execution_count": 110,
      "outputs": [
        {
          "output_type": "display_data",
          "data": {
            "image/png": "[encoded data removed]",
            "text/plain": [
              "<matplotlib.figure.Figure at 0x7f1032d48190>"
            ]
          },
          "metadata": {
            "tags": []
          }
        }
      ]
    },
    {
      "metadata": {
        "id": "hQl3FaSmjqXa",
        "colab_type": "code",
        "colab": {}
      },
      "cell_type": "code",
      "source": [
        ""
      ],
      "execution_count": 0,
      "outputs": []
    }
  ]
}